{
  "nbformat": 4,
  "nbformat_minor": 0,
  "metadata": {
    "colab": {
      "name": "Copy of SQL Programming - Selecting & Retrieving Data with SQL",
      "provenance": [],
      "collapsed_sections": [],
      "toc_visible": true,
      "include_colab_link": true
    },
    "kernelspec": {
      "name": "python3",
      "display_name": "Python 3"
    },
    "accelerator": "GPU"
  },
  "cells": [
    {
      "cell_type": "markdown",
      "metadata": {
        "id": "view-in-github",
        "colab_type": "text"
      },
      "source": [
        "<a href=\"https://colab.research.google.com/github/kevinkirotichkibet/MoringaSchoolDataSciencewk1/blob/main/Copy_of_SQL_Programming_Selecting_%26_Retrieving_Data_with_SQL.ipynb\" target=\"_parent\"><img src=\"https://colab.research.google.com/assets/colab-badge.svg\" alt=\"Open In Colab\"/></a>"
      ]
    },
    {
      "cell_type": "markdown",
      "metadata": {
        "id": "iHn_rVx9AQbH"
      },
      "source": [
        "<font color=\"green\">*To start working on this notebook, or any other notebook that we will use in the Moringa Data Science Course, we will need to save our own copy of it. We can do this by clicking File > Save a Copy in Drive. We will then be able to make edits to our own copy of this notebook.*</font>"
      ]
    },
    {
      "cell_type": "markdown",
      "metadata": {
        "id": "vNuevLakwO1D"
      },
      "source": [
        "# Selecting & Retrieving Data with SQL"
      ]
    },
    {
      "cell_type": "markdown",
      "metadata": {
        "id": "1nDHMRqtg1nd"
      },
      "source": [
        "## 1.1 Let's first connect to our Database "
      ]
    },
    {
      "cell_type": "code",
      "metadata": {
        "id": "KEeQqc_32_uy",
        "colab": {
          "base_uri": "https://localhost:8080/",
          "height": 35
        },
        "outputId": "df64da34-f9ac-41fb-fe07-f1007924564b"
      },
      "source": [
        "# We will first load the sql extension into our environment\n",
        "#\n",
        "%load_ext sql\n",
        "\n",
        "# Then connect to our in memory sqlite database\n",
        "# NB: This database will cease to exist as soon as the database connection is closed\n",
        "#\n",
        "%sql sqlite://"
      ],
      "execution_count": null,
      "outputs": [
        {
          "output_type": "execute_result",
          "data": {
            "application/vnd.google.colaboratory.intrinsic+json": {
              "type": "string"
            },
            "text/plain": [
              "'Connected: @None'"
            ]
          },
          "metadata": {
            "tags": []
          },
          "execution_count": 1
        }
      ]
    },
    {
      "cell_type": "markdown",
      "metadata": {
        "id": "5NiauWDEtyQT"
      },
      "source": [
        "## 1.2 Importing Data From a CSV File"
      ]
    },
    {
      "cell_type": "code",
      "metadata": {
        "id": "Y3U2kqH_6StD"
      },
      "source": [
        "# Importing the python libraries that we will need in this notebook\n",
        "#\n",
        "import csv\n",
        "import pandas as pd"
      ],
      "execution_count": null,
      "outputs": []
    },
    {
      "cell_type": "markdown",
      "metadata": {
        "id": "a_pFRGcMOBpq"
      },
      "source": [
        "Then we will download our csv file from Interpol: [here](https://bit.ly/InterpolDataset) and World Cup [here](http://bit.ly/MSWorldCupData)  . Open the link and then on our browser  Click File > Save Page As > Save. Lastly, upload it to our current environment on Colaboratory by clicking View > Table of Contents > Files then Upload.  (NB: Do not load file from url)"
      ]
    },
    {
      "cell_type": "code",
      "metadata": {
        "id": "z6U_gvHB5d_R"
      },
      "source": [
        "# Loading the first table from a local CSV file\n",
        "#\n",
        "with open('Countries.csv','r') as f:\n",
        "    Interpol = pd.read_csv(f, index_col=0, encoding='utf-8') \n",
        "\n",
        "# Then storing it in an SQL table of our in memory sqlite database\n",
        "#\n",
        "#%sql DROP TABLE if EXISTS Interpol;\n",
        "%sql PERSIST Interpol;"
      ],
      "execution_count": null,
      "outputs": []
    },
    {
      "cell_type": "code",
      "metadata": {
        "id": "50wIaXuDt6FF",
        "colab": {
          "base_uri": "https://localhost:8080/",
          "height": 53
        },
        "outputId": "20e8f9f1-443b-44a6-b82b-b2cf03a6a93b"
      },
      "source": [
        "# We will load all the other dataset that we will need i.e. WorldCup\n",
        "#\n",
        "with open('WorldCup.csv','r') as f:\n",
        "    WorldCup = pd.read_csv(f, index_col=0, encoding='utf-8') \n",
        "    \n",
        "#sql DROP TABLE if EXISTS WorldCup;\n",
        "%sql PERSIST WorldCup;       "
      ],
      "execution_count": null,
      "outputs": [
        {
          "output_type": "stream",
          "text": [
            " * sqlite://\n"
          ],
          "name": "stdout"
        },
        {
          "output_type": "execute_result",
          "data": {
            "application/vnd.google.colaboratory.intrinsic+json": {
              "type": "string"
            },
            "text/plain": [
              "'Persisted worldcup'"
            ]
          },
          "metadata": {
            "tags": []
          },
          "execution_count": 5
        }
      ]
    },
    {
      "cell_type": "code",
      "metadata": {
        "id": "q_WlNo73PNx5",
        "colab": {
          "base_uri": "https://localhost:8080/",
          "height": 1000
        },
        "outputId": "eb0b3fde-44fc-412d-f9f6-b0394cde258b"
      },
      "source": [
        "# Let's preview our Interpol table so that we can understand it\n",
        "# Try to understand all the attributes (i.e columns) since this\n",
        "# will be one of the datasets that we will work with through this session\n",
        "#\n",
        "%sql select * from Interpol;"
      ],
      "execution_count": null,
      "outputs": [
        {
          "output_type": "stream",
          "text": [
            " * sqlite://\n",
            "Done.\n"
          ],
          "name": "stdout"
        },
        {
          "output_type": "execute_result",
          "data": {
            "text/html": [
              "<table>\n",
              "    <thead>\n",
              "        <tr>\n",
              "            <th>Country</th>\n",
              "            <th>National Fugitives</th>\n",
              "            <th>Wanted Fugitives</th>\n",
              "            <th>Possible Hosted Fugitives / Captured Fugitives</th>\n",
              "            <th>Region</th>\n",
              "            <th>Flag</th>\n",
              "        </tr>\n",
              "    </thead>\n",
              "    <tbody>\n",
              "        <tr>\n",
              "            <td>Albania</td>\n",
              "            <td>3</td>\n",
              "            <td>3</td>\n",
              "            <td>0</td>\n",
              "            <td>Europe</td>\n",
              "            <td>http://www.crwflags.com/fotw/images/a/al.gif</td>\n",
              "        </tr>\n",
              "        <tr>\n",
              "            <td>Angola</td>\n",
              "            <td>0</td>\n",
              "            <td>0</td>\n",
              "            <td>1</td>\n",
              "            <td>Northern Africa</td>\n",
              "            <td>http://www.crwflags.com/fotw/images/a/ao.gif</td>\n",
              "        </tr>\n",
              "        <tr>\n",
              "            <td>Argentina</td>\n",
              "            <td>2</td>\n",
              "            <td>2</td>\n",
              "            <td>1</td>\n",
              "            <td>South America</td>\n",
              "            <td>http://www.crwflags.com/fotw/images/a/ar.gif</td>\n",
              "        </tr>\n",
              "        <tr>\n",
              "            <td>Australia</td>\n",
              "            <td>1</td>\n",
              "            <td>1</td>\n",
              "            <td>2</td>\n",
              "            <td>Oceania</td>\n",
              "            <td>http://www.crwflags.com/fotw/images/a/au.gif</td>\n",
              "        </tr>\n",
              "        <tr>\n",
              "            <td>Austria</td>\n",
              "            <td>1</td>\n",
              "            <td>1</td>\n",
              "            <td>0</td>\n",
              "            <td>Europe</td>\n",
              "            <td>http://www.crwflags.com/fotw/images/a/at.gif</td>\n",
              "        </tr>\n",
              "        <tr>\n",
              "            <td>Bangladesh</td>\n",
              "            <td>2</td>\n",
              "            <td>1</td>\n",
              "            <td>1</td>\n",
              "            <td>Asia</td>\n",
              "            <td>http://www.crwflags.com/fotw/images/b/bd.gif</td>\n",
              "        </tr>\n",
              "        <tr>\n",
              "            <td>Belarus</td>\n",
              "            <td>1</td>\n",
              "            <td>1</td>\n",
              "            <td>0</td>\n",
              "            <td>Europe</td>\n",
              "            <td>http://www.crwflags.com/fotw/images/b/by.gif</td>\n",
              "        </tr>\n",
              "        <tr>\n",
              "            <td>Belgium</td>\n",
              "            <td>0</td>\n",
              "            <td>2</td>\n",
              "            <td>0</td>\n",
              "            <td>Europe</td>\n",
              "            <td>http://www.crwflags.com/fotw/images/b/be.gif</td>\n",
              "        </tr>\n",
              "        <tr>\n",
              "            <td>Belize</td>\n",
              "            <td>1</td>\n",
              "            <td>1</td>\n",
              "            <td>0</td>\n",
              "            <td>Central America</td>\n",
              "            <td>http://www.crwflags.com/fotw/images/b/bz.gif</td>\n",
              "        </tr>\n",
              "        <tr>\n",
              "            <td>Bolivia</td>\n",
              "            <td>0</td>\n",
              "            <td>0</td>\n",
              "            <td>2</td>\n",
              "            <td>South America</td>\n",
              "            <td>http://www.crwflags.com/fotw/images/b/bo.gif</td>\n",
              "        </tr>\n",
              "        <tr>\n",
              "            <td>Botswana</td>\n",
              "            <td>0</td>\n",
              "            <td>1</td>\n",
              "            <td>1</td>\n",
              "            <td>Southern Africa</td>\n",
              "            <td>http://www.crwflags.com/fotw/images/b/bw.gif</td>\n",
              "        </tr>\n",
              "        <tr>\n",
              "            <td>Brazil</td>\n",
              "            <td>2</td>\n",
              "            <td>4</td>\n",
              "            <td>3</td>\n",
              "            <td>South America</td>\n",
              "            <td>http://www.crwflags.com/fotw/images/b/br.gif</td>\n",
              "        </tr>\n",
              "        <tr>\n",
              "            <td>Cambodia</td>\n",
              "            <td>0</td>\n",
              "            <td>0</td>\n",
              "            <td>1</td>\n",
              "            <td>Asia</td>\n",
              "            <td>http://www.crwflags.com/fotw/images/k/kh.gif</td>\n",
              "        </tr>\n",
              "        <tr>\n",
              "            <td>Canada</td>\n",
              "            <td>3</td>\n",
              "            <td>4</td>\n",
              "            <td>2</td>\n",
              "            <td>North America</td>\n",
              "            <td>http://www.crwflags.com/fotw/images/c/ca.gif</td>\n",
              "        </tr>\n",
              "        <tr>\n",
              "            <td>Cayman Islands</td>\n",
              "            <td>0</td>\n",
              "            <td>0</td>\n",
              "            <td>1</td>\n",
              "            <td>Central America</td>\n",
              "            <td>http://www.crwflags.com/fotw/images/k/ky.gif</td>\n",
              "        </tr>\n",
              "        <tr>\n",
              "            <td>Chile</td>\n",
              "            <td>1</td>\n",
              "            <td>1</td>\n",
              "            <td>0</td>\n",
              "            <td>South America</td>\n",
              "            <td>http://www.crwflags.com/fotw/images/c/cl.gif</td>\n",
              "        </tr>\n",
              "        <tr>\n",
              "            <td>Colombia</td>\n",
              "            <td>3</td>\n",
              "            <td>0</td>\n",
              "            <td>1</td>\n",
              "            <td>South America</td>\n",
              "            <td>http://www.crwflags.com/fotw/images/c/co.gif</td>\n",
              "        </tr>\n",
              "        <tr>\n",
              "            <td>Congo</td>\n",
              "            <td>0</td>\n",
              "            <td>0</td>\n",
              "            <td>1</td>\n",
              "            <td>Sub Saharan Africa</td>\n",
              "            <td>http://www.crwflags.com/fotw/images/c/cg.gif</td>\n",
              "        </tr>\n",
              "        <tr>\n",
              "            <td>Costa Rica</td>\n",
              "            <td>0</td>\n",
              "            <td>1</td>\n",
              "            <td>2</td>\n",
              "            <td>Central America</td>\n",
              "            <td>http://www.crwflags.com/fotw/images/c/cr.gif</td>\n",
              "        </tr>\n",
              "        <tr>\n",
              "            <td>Croatia</td>\n",
              "            <td>1</td>\n",
              "            <td>1</td>\n",
              "            <td>1</td>\n",
              "            <td>Europe</td>\n",
              "            <td>http://www.crwflags.com/fotw/images/h/hr.gif</td>\n",
              "        </tr>\n",
              "        <tr>\n",
              "            <td>Curaçao</td>\n",
              "            <td>0</td>\n",
              "            <td>1</td>\n",
              "            <td>0</td>\n",
              "            <td>Central America</td>\n",
              "            <td>http://www.crwflags.com/fotw/images/c/cw.gif</td>\n",
              "        </tr>\n",
              "        <tr>\n",
              "            <td>Czech Republic</td>\n",
              "            <td>3</td>\n",
              "            <td>3</td>\n",
              "            <td>0</td>\n",
              "            <td>Europe</td>\n",
              "            <td>http://www.crwflags.com/fotw/images/c/cz.gif</td>\n",
              "        </tr>\n",
              "        <tr>\n",
              "            <td>Denmark</td>\n",
              "            <td>0</td>\n",
              "            <td>2</td>\n",
              "            <td>0</td>\n",
              "            <td>Europe</td>\n",
              "            <td>http://www.crwflags.com/fotw/images/d/dk.gif</td>\n",
              "        </tr>\n",
              "        <tr>\n",
              "            <td>Dominican Republic</td>\n",
              "            <td>1</td>\n",
              "            <td>1</td>\n",
              "            <td>2</td>\n",
              "            <td>Central America</td>\n",
              "            <td>http://www.crwflags.com/fotw/images/d/do.gif</td>\n",
              "        </tr>\n",
              "        <tr>\n",
              "            <td>Ecuador</td>\n",
              "            <td>0</td>\n",
              "            <td>0</td>\n",
              "            <td>1</td>\n",
              "            <td>South America</td>\n",
              "            <td>http://www.worldatlas.com/webimage/flags/countrys/zzzflags/eclarge.jpg</td>\n",
              "        </tr>\n",
              "        <tr>\n",
              "            <td>El Salvador</td>\n",
              "            <td>2</td>\n",
              "            <td>2</td>\n",
              "            <td>0</td>\n",
              "            <td>Central America</td>\n",
              "            <td>http://www.crwflags.com/fotw/images/s/sv.gif</td>\n",
              "        </tr>\n",
              "        <tr>\n",
              "            <td>Estonia</td>\n",
              "            <td>1</td>\n",
              "            <td>2</td>\n",
              "            <td>0</td>\n",
              "            <td>Europe</td>\n",
              "            <td>http://www.crwflags.com/fotw/images/e/ee.gif</td>\n",
              "        </tr>\n",
              "        <tr>\n",
              "            <td>Finland</td>\n",
              "            <td>2</td>\n",
              "            <td>2</td>\n",
              "            <td>3</td>\n",
              "            <td>Europe</td>\n",
              "            <td>http://www.crwflags.com/fotw/images/f/fi.gif</td>\n",
              "        </tr>\n",
              "        <tr>\n",
              "            <td>France</td>\n",
              "            <td>0</td>\n",
              "            <td>0</td>\n",
              "            <td>7</td>\n",
              "            <td>Europe</td>\n",
              "            <td>http://www.crwflags.com/fotw/images/f/fr.gif</td>\n",
              "        </tr>\n",
              "        <tr>\n",
              "            <td>Georgia, Asia</td>\n",
              "            <td>2</td>\n",
              "            <td>2</td>\n",
              "            <td>0</td>\n",
              "            <td>Asia</td>\n",
              "            <td>http://www.crwflags.com/fotw/images/g/ge.gif</td>\n",
              "        </tr>\n",
              "        <tr>\n",
              "            <td>Germany</td>\n",
              "            <td>1</td>\n",
              "            <td>0</td>\n",
              "            <td>3</td>\n",
              "            <td>Europe</td>\n",
              "            <td>http://www.crwflags.com/fotw/images/d/de.gif</td>\n",
              "        </tr>\n",
              "        <tr>\n",
              "            <td>Greece</td>\n",
              "            <td>1</td>\n",
              "            <td>1</td>\n",
              "            <td>3</td>\n",
              "            <td>Europe</td>\n",
              "            <td>http://www.crwflags.com/fotw/images/g/gr.gif</td>\n",
              "        </tr>\n",
              "        <tr>\n",
              "            <td>Honduras</td>\n",
              "            <td>1</td>\n",
              "            <td>0</td>\n",
              "            <td>1</td>\n",
              "            <td>Central America</td>\n",
              "            <td>http://www.crwflags.com/fotw/images/h/hn.gif</td>\n",
              "        </tr>\n",
              "        <tr>\n",
              "            <td>Hungary</td>\n",
              "            <td>2</td>\n",
              "            <td>2</td>\n",
              "            <td>0</td>\n",
              "            <td>Europe</td>\n",
              "            <td>http://www.crwflags.com/fotw/images/h/hu.gif</td>\n",
              "        </tr>\n",
              "        <tr>\n",
              "            <td>India</td>\n",
              "            <td>0</td>\n",
              "            <td>0</td>\n",
              "            <td>1</td>\n",
              "            <td>Asia</td>\n",
              "            <td>http://www.crwflags.com/fotw/images/i/in.gif</td>\n",
              "        </tr>\n",
              "        <tr>\n",
              "            <td>Indonesia</td>\n",
              "            <td>1</td>\n",
              "            <td>1</td>\n",
              "            <td>0</td>\n",
              "            <td>Asia</td>\n",
              "            <td>http://www.crwflags.com/fotw/images/i/id.gif</td>\n",
              "        </tr>\n",
              "        <tr>\n",
              "            <td>Iraq</td>\n",
              "            <td>1</td>\n",
              "            <td>0</td>\n",
              "            <td>1</td>\n",
              "            <td>Asia</td>\n",
              "            <td>http://www.crwflags.com/fotw/images/i/iq.gif</td>\n",
              "        </tr>\n",
              "        <tr>\n",
              "            <td>Ireland</td>\n",
              "            <td>2</td>\n",
              "            <td>1</td>\n",
              "            <td>0</td>\n",
              "            <td>Europe</td>\n",
              "            <td>http://www.crwflags.com/fotw/images/i/ie.gif</td>\n",
              "        </tr>\n",
              "        <tr>\n",
              "            <td>Italy</td>\n",
              "            <td>1</td>\n",
              "            <td>1</td>\n",
              "            <td>3</td>\n",
              "            <td>Europe</td>\n",
              "            <td>http://www.crwflags.com/fotw/images/i/it.gif</td>\n",
              "        </tr>\n",
              "        <tr>\n",
              "            <td>Kenya</td>\n",
              "            <td>1</td>\n",
              "            <td>1</td>\n",
              "            <td>2</td>\n",
              "            <td>Sub Saharan Africa</td>\n",
              "            <td>http://www.crwflags.com/fotw/images/k/ke.gif</td>\n",
              "        </tr>\n",
              "        <tr>\n",
              "            <td>Lesotho</td>\n",
              "            <td>0</td>\n",
              "            <td>0</td>\n",
              "            <td>1</td>\n",
              "            <td>Southern Africa</td>\n",
              "            <td>http://www.crwflags.com/fotw/images/l/ls.gif</td>\n",
              "        </tr>\n",
              "        <tr>\n",
              "            <td>Lithuania</td>\n",
              "            <td>1</td>\n",
              "            <td>1</td>\n",
              "            <td>0</td>\n",
              "            <td>Europe</td>\n",
              "            <td>http://www.crwflags.com/fotw/images/l/lt.gif</td>\n",
              "        </tr>\n",
              "        <tr>\n",
              "            <td>Macedonia</td>\n",
              "            <td>0</td>\n",
              "            <td>0</td>\n",
              "            <td>1</td>\n",
              "            <td>Europe</td>\n",
              "            <td>http://www.crwflags.com/fotw/images/m/mk.gif</td>\n",
              "        </tr>\n",
              "        <tr>\n",
              "            <td>Mali</td>\n",
              "            <td>0</td>\n",
              "            <td>1</td>\n",
              "            <td>0</td>\n",
              "            <td>Sub Saharan Africa</td>\n",
              "            <td>http://www.crwflags.com/fotw/images/m/ml.gif</td>\n",
              "        </tr>\n",
              "        <tr>\n",
              "            <td>Malta</td>\n",
              "            <td>0</td>\n",
              "            <td>0</td>\n",
              "            <td>1</td>\n",
              "            <td>Europe</td>\n",
              "            <td>http://www.crwflags.com/fotw/images/m/mt.gif</td>\n",
              "        </tr>\n",
              "        <tr>\n",
              "            <td>Mexico</td>\n",
              "            <td>3</td>\n",
              "            <td>0</td>\n",
              "            <td>6</td>\n",
              "            <td>Central America</td>\n",
              "            <td>http://www.crwflags.com/fotw/images/m/mx.gif</td>\n",
              "        </tr>\n",
              "        <tr>\n",
              "            <td>Montenegro</td>\n",
              "            <td>3</td>\n",
              "            <td>2</td>\n",
              "            <td>1</td>\n",
              "            <td>Europe</td>\n",
              "            <td>http://www.crwflags.com/fotw/images/m/me.gif</td>\n",
              "        </tr>\n",
              "        <tr>\n",
              "            <td>Morocco</td>\n",
              "            <td>2</td>\n",
              "            <td>0</td>\n",
              "            <td>3</td>\n",
              "            <td>Northern Africa</td>\n",
              "            <td>http://www.crwflags.com/fotw/images/m/ma.gif</td>\n",
              "        </tr>\n",
              "        <tr>\n",
              "            <td>Mozambique</td>\n",
              "            <td>0</td>\n",
              "            <td>0</td>\n",
              "            <td>2</td>\n",
              "            <td>Southern Africa</td>\n",
              "            <td>http://www.crwflags.com/fotw/images/m/mz.gif</td>\n",
              "        </tr>\n",
              "        <tr>\n",
              "            <td>Namibia</td>\n",
              "            <td>0</td>\n",
              "            <td>0</td>\n",
              "            <td>1</td>\n",
              "            <td>Southern Africa</td>\n",
              "            <td>http://www.crwflags.com/fotw/images/n/na.gif</td>\n",
              "        </tr>\n",
              "        <tr>\n",
              "            <td>New Zealand</td>\n",
              "            <td>0</td>\n",
              "            <td>0</td>\n",
              "            <td>1</td>\n",
              "            <td>Oceania</td>\n",
              "            <td>http://www.crwflags.com/fotw/images/n/nz.gif</td>\n",
              "        </tr>\n",
              "        <tr>\n",
              "            <td>Nicaragua</td>\n",
              "            <td>1</td>\n",
              "            <td>1</td>\n",
              "            <td>0</td>\n",
              "            <td>Central America</td>\n",
              "            <td>http://www.crwflags.com/fotw/images/n/ni.gif</td>\n",
              "        </tr>\n",
              "        <tr>\n",
              "            <td>Norway</td>\n",
              "            <td>0</td>\n",
              "            <td>1</td>\n",
              "            <td>0</td>\n",
              "            <td>Europe</td>\n",
              "            <td>http://www.crwflags.com/fotw/images/n/no.gif</td>\n",
              "        </tr>\n",
              "        <tr>\n",
              "            <td>Pakistan</td>\n",
              "            <td>1</td>\n",
              "            <td>0</td>\n",
              "            <td>2</td>\n",
              "            <td>Asia</td>\n",
              "            <td>http://www.crwflags.com/fotw/images/p/pk.gif</td>\n",
              "        </tr>\n",
              "        <tr>\n",
              "            <td>Panama</td>\n",
              "            <td>0</td>\n",
              "            <td>0</td>\n",
              "            <td>2</td>\n",
              "            <td>Central America</td>\n",
              "            <td>http://www.crwflags.com/fotw/images/p/pa.gif</td>\n",
              "        </tr>\n",
              "        <tr>\n",
              "            <td>Paraguay</td>\n",
              "            <td>1</td>\n",
              "            <td>1</td>\n",
              "            <td>1</td>\n",
              "            <td>South America</td>\n",
              "            <td>http://www.crwflags.com/fotw/images/p/py.gif</td>\n",
              "        </tr>\n",
              "        <tr>\n",
              "            <td>Peru</td>\n",
              "            <td>2</td>\n",
              "            <td>1</td>\n",
              "            <td>0</td>\n",
              "            <td>South America</td>\n",
              "            <td>http://www.crwflags.com/fotw/images/p/pe.gif</td>\n",
              "        </tr>\n",
              "        <tr>\n",
              "            <td>Poland</td>\n",
              "            <td>4</td>\n",
              "            <td>4</td>\n",
              "            <td>3</td>\n",
              "            <td>Europe</td>\n",
              "            <td>http://www.crwflags.com/fotw/images/p/pl.gif</td>\n",
              "        </tr>\n",
              "        <tr>\n",
              "            <td>Qatar</td>\n",
              "            <td>0</td>\n",
              "            <td>0</td>\n",
              "            <td>1</td>\n",
              "            <td>Asia</td>\n",
              "            <td>http://upload.wikimedia.org/wikipedia/commons/6/65/Flag_of_Qatar.svg</td>\n",
              "        </tr>\n",
              "        <tr>\n",
              "            <td>Romania</td>\n",
              "            <td>4</td>\n",
              "            <td>4</td>\n",
              "            <td>0</td>\n",
              "            <td>Europe</td>\n",
              "            <td>http://www.crwflags.com/fotw/images/r/ro.gif</td>\n",
              "        </tr>\n",
              "        <tr>\n",
              "            <td>Russia</td>\n",
              "            <td>2</td>\n",
              "            <td>1</td>\n",
              "            <td>3</td>\n",
              "            <td>Europe, Asia</td>\n",
              "            <td>http://www.crwflags.com/fotw/images/r/ru.gif</td>\n",
              "        </tr>\n",
              "        <tr>\n",
              "            <td>Serbia</td>\n",
              "            <td>0</td>\n",
              "            <td>0</td>\n",
              "            <td>1</td>\n",
              "            <td>Europe</td>\n",
              "            <td>http://www.crwflags.com/fotw/images/r/rs.gif</td>\n",
              "        </tr>\n",
              "        <tr>\n",
              "            <td>Slovakia</td>\n",
              "            <td>2</td>\n",
              "            <td>2</td>\n",
              "            <td>0</td>\n",
              "            <td>Europe</td>\n",
              "            <td>http://www.crwflags.com/fotw/images/s/sk.gif</td>\n",
              "        </tr>\n",
              "        <tr>\n",
              "            <td>Somalia</td>\n",
              "            <td>1</td>\n",
              "            <td>0</td>\n",
              "            <td>0</td>\n",
              "            <td>Sub Saharan Africa</td>\n",
              "            <td>http://www.crwflags.com/fotw/images/s/so.gif</td>\n",
              "        </tr>\n",
              "        <tr>\n",
              "            <td>South Africa</td>\n",
              "            <td>3</td>\n",
              "            <td>2</td>\n",
              "            <td>4</td>\n",
              "            <td>Southern Africa</td>\n",
              "            <td>http://www.crwflags.com/fotw/images/z/za.gif</td>\n",
              "        </tr>\n",
              "        <tr>\n",
              "            <td>Spain</td>\n",
              "            <td>1</td>\n",
              "            <td>2</td>\n",
              "            <td>13</td>\n",
              "            <td>Europe</td>\n",
              "            <td>http://www.crwflags.com/fotw/images/e/es.gif</td>\n",
              "        </tr>\n",
              "        <tr>\n",
              "            <td>Swaziland</td>\n",
              "            <td>1</td>\n",
              "            <td>1</td>\n",
              "            <td>1</td>\n",
              "            <td>Southern Africa</td>\n",
              "            <td>http://www.crwflags.com/fotw/images/s/sz.gif</td>\n",
              "        </tr>\n",
              "        <tr>\n",
              "            <td>Sweden</td>\n",
              "            <td>2</td>\n",
              "            <td>3</td>\n",
              "            <td>1</td>\n",
              "            <td>Europe</td>\n",
              "            <td>http://www.crwflags.com/fotw/images/s/se.gif</td>\n",
              "        </tr>\n",
              "        <tr>\n",
              "            <td>Tanzania</td>\n",
              "            <td>0</td>\n",
              "            <td>1</td>\n",
              "            <td>2</td>\n",
              "            <td>Sub Saharan Africa</td>\n",
              "            <td>http://www.crwflags.com/fotw/images/t/tz.gif</td>\n",
              "        </tr>\n",
              "        <tr>\n",
              "            <td>The Netherlands</td>\n",
              "            <td>6</td>\n",
              "            <td>3</td>\n",
              "            <td>8</td>\n",
              "            <td>Europe</td>\n",
              "            <td>http://www.crwflags.com/fotw/images/n/nl.gif</td>\n",
              "        </tr>\n",
              "        <tr>\n",
              "            <td>Turkey</td>\n",
              "            <td>0</td>\n",
              "            <td>0</td>\n",
              "            <td>1</td>\n",
              "            <td>Europe</td>\n",
              "            <td>http://www.crwflags.com/fotw/images/t/tr.gif</td>\n",
              "        </tr>\n",
              "        <tr>\n",
              "            <td>Ukraine</td>\n",
              "            <td>1</td>\n",
              "            <td>1</td>\n",
              "            <td>1</td>\n",
              "            <td>Europe</td>\n",
              "            <td>http://www.crwflags.com/fotw/images/u/ua.gif</td>\n",
              "        </tr>\n",
              "        <tr>\n",
              "            <td>United Kingdom</td>\n",
              "            <td>6</td>\n",
              "            <td>4</td>\n",
              "            <td>7</td>\n",
              "            <td>Europe</td>\n",
              "            <td>http://www.crwflags.com/fotw/images/g/gb.gif</td>\n",
              "        </tr>\n",
              "        <tr>\n",
              "            <td>United States</td>\n",
              "            <td>8</td>\n",
              "            <td>11</td>\n",
              "            <td>6</td>\n",
              "            <td>North America</td>\n",
              "            <td>http://www.crwflags.com/fotw/images/u/us.gif</td>\n",
              "        </tr>\n",
              "        <tr>\n",
              "            <td>Uruguay</td>\n",
              "            <td>1</td>\n",
              "            <td>1</td>\n",
              "            <td>1</td>\n",
              "            <td>South America</td>\n",
              "            <td>http://www.crwflags.com/fotw/images/u/uy.gif</td>\n",
              "        </tr>\n",
              "        <tr>\n",
              "            <td>Venezuela</td>\n",
              "            <td>0</td>\n",
              "            <td>1</td>\n",
              "            <td>0</td>\n",
              "            <td>South America</td>\n",
              "            <td>http://www.crwflags.com/fotw/images/v/ve.gif</td>\n",
              "        </tr>\n",
              "        <tr>\n",
              "            <td>Zambia</td>\n",
              "            <td>1</td>\n",
              "            <td>0</td>\n",
              "            <td>2</td>\n",
              "            <td>Southern Africa</td>\n",
              "            <td>http://www.crwflags.com/fotw/images/z/zm.gif</td>\n",
              "        </tr>\n",
              "        <tr>\n",
              "            <td>Zimbabwe</td>\n",
              "            <td>0</td>\n",
              "            <td>0</td>\n",
              "            <td>2</td>\n",
              "            <td>Southern Africa</td>\n",
              "            <td>http://www.crwflags.com/fotw/images/z/zw.gif</td>\n",
              "        </tr>\n",
              "    </tbody>\n",
              "</table>"
            ],
            "text/plain": [
              "[('Albania', 3, 3, 0, 'Europe', 'http://www.crwflags.com/fotw/images/a/al.gif'),\n",
              " ('Angola', 0, 0, 1, 'Northern Africa', 'http://www.crwflags.com/fotw/images/a/ao.gif'),\n",
              " ('Argentina', 2, 2, 1, 'South America', 'http://www.crwflags.com/fotw/images/a/ar.gif'),\n",
              " ('Australia', 1, 1, 2, 'Oceania', 'http://www.crwflags.com/fotw/images/a/au.gif'),\n",
              " ('Austria', 1, 1, 0, 'Europe', 'http://www.crwflags.com/fotw/images/a/at.gif'),\n",
              " ('Bangladesh', 2, 1, 1, 'Asia', 'http://www.crwflags.com/fotw/images/b/bd.gif'),\n",
              " ('Belarus', 1, 1, 0, 'Europe', 'http://www.crwflags.com/fotw/images/b/by.gif'),\n",
              " ('Belgium', 0, 2, 0, 'Europe', 'http://www.crwflags.com/fotw/images/b/be.gif'),\n",
              " ('Belize', 1, 1, 0, 'Central America', 'http://www.crwflags.com/fotw/images/b/bz.gif'),\n",
              " ('Bolivia', 0, 0, 2, 'South America', 'http://www.crwflags.com/fotw/images/b/bo.gif'),\n",
              " ('Botswana', 0, 1, 1, 'Southern Africa', 'http://www.crwflags.com/fotw/images/b/bw.gif'),\n",
              " ('Brazil', 2, 4, 3, 'South America', 'http://www.crwflags.com/fotw/images/b/br.gif'),\n",
              " ('Cambodia', 0, 0, 1, 'Asia', 'http://www.crwflags.com/fotw/images/k/kh.gif'),\n",
              " ('Canada', 3, 4, 2, 'North America', 'http://www.crwflags.com/fotw/images/c/ca.gif'),\n",
              " ('Cayman Islands', 0, 0, 1, 'Central America', 'http://www.crwflags.com/fotw/images/k/ky.gif'),\n",
              " ('Chile', 1, 1, 0, 'South America', 'http://www.crwflags.com/fotw/images/c/cl.gif'),\n",
              " ('Colombia', 3, 0, 1, 'South America', 'http://www.crwflags.com/fotw/images/c/co.gif'),\n",
              " ('Congo', 0, 0, 1, 'Sub Saharan Africa', 'http://www.crwflags.com/fotw/images/c/cg.gif'),\n",
              " ('Costa Rica', 0, 1, 2, 'Central America', 'http://www.crwflags.com/fotw/images/c/cr.gif'),\n",
              " ('Croatia', 1, 1, 1, 'Europe', 'http://www.crwflags.com/fotw/images/h/hr.gif'),\n",
              " ('Curaçao', 0, 1, 0, 'Central America', 'http://www.crwflags.com/fotw/images/c/cw.gif'),\n",
              " ('Czech Republic', 3, 3, 0, 'Europe', 'http://www.crwflags.com/fotw/images/c/cz.gif'),\n",
              " ('Denmark', 0, 2, 0, 'Europe', 'http://www.crwflags.com/fotw/images/d/dk.gif'),\n",
              " ('Dominican Republic', 1, 1, 2, 'Central America', 'http://www.crwflags.com/fotw/images/d/do.gif'),\n",
              " ('Ecuador', 0, 0, 1, 'South America', 'http://www.worldatlas.com/webimage/flags/countrys/zzzflags/eclarge.jpg'),\n",
              " ('El Salvador', 2, 2, 0, 'Central America', 'http://www.crwflags.com/fotw/images/s/sv.gif'),\n",
              " ('Estonia', 1, 2, 0, 'Europe', 'http://www.crwflags.com/fotw/images/e/ee.gif'),\n",
              " ('Finland', 2, 2, 3, 'Europe', 'http://www.crwflags.com/fotw/images/f/fi.gif'),\n",
              " ('France', 0, 0, 7, 'Europe', 'http://www.crwflags.com/fotw/images/f/fr.gif'),\n",
              " ('Georgia, Asia', 2, 2, 0, 'Asia', 'http://www.crwflags.com/fotw/images/g/ge.gif'),\n",
              " ('Germany', 1, 0, 3, 'Europe', 'http://www.crwflags.com/fotw/images/d/de.gif'),\n",
              " ('Greece', 1, 1, 3, 'Europe', 'http://www.crwflags.com/fotw/images/g/gr.gif'),\n",
              " ('Honduras', 1, 0, 1, 'Central America', 'http://www.crwflags.com/fotw/images/h/hn.gif'),\n",
              " ('Hungary', 2, 2, 0, 'Europe', 'http://www.crwflags.com/fotw/images/h/hu.gif'),\n",
              " ('India', 0, 0, 1, 'Asia', 'http://www.crwflags.com/fotw/images/i/in.gif'),\n",
              " ('Indonesia', 1, 1, 0, 'Asia', 'http://www.crwflags.com/fotw/images/i/id.gif'),\n",
              " ('Iraq', 1, 0, 1, 'Asia', 'http://www.crwflags.com/fotw/images/i/iq.gif'),\n",
              " ('Ireland', 2, 1, 0, 'Europe', 'http://www.crwflags.com/fotw/images/i/ie.gif'),\n",
              " ('Italy', 1, 1, 3, 'Europe', 'http://www.crwflags.com/fotw/images/i/it.gif'),\n",
              " ('Kenya', 1, 1, 2, 'Sub Saharan Africa', 'http://www.crwflags.com/fotw/images/k/ke.gif'),\n",
              " ('Lesotho', 0, 0, 1, 'Southern Africa', 'http://www.crwflags.com/fotw/images/l/ls.gif'),\n",
              " ('Lithuania', 1, 1, 0, 'Europe', 'http://www.crwflags.com/fotw/images/l/lt.gif'),\n",
              " ('Macedonia', 0, 0, 1, 'Europe', 'http://www.crwflags.com/fotw/images/m/mk.gif'),\n",
              " ('Mali', 0, 1, 0, 'Sub Saharan Africa', 'http://www.crwflags.com/fotw/images/m/ml.gif'),\n",
              " ('Malta', 0, 0, 1, 'Europe', 'http://www.crwflags.com/fotw/images/m/mt.gif'),\n",
              " ('Mexico', 3, 0, 6, 'Central America', 'http://www.crwflags.com/fotw/images/m/mx.gif'),\n",
              " ('Montenegro', 3, 2, 1, 'Europe', 'http://www.crwflags.com/fotw/images/m/me.gif'),\n",
              " ('Morocco', 2, 0, 3, 'Northern Africa', 'http://www.crwflags.com/fotw/images/m/ma.gif'),\n",
              " ('Mozambique', 0, 0, 2, 'Southern Africa', 'http://www.crwflags.com/fotw/images/m/mz.gif'),\n",
              " ('Namibia', 0, 0, 1, 'Southern Africa', 'http://www.crwflags.com/fotw/images/n/na.gif'),\n",
              " ('New Zealand', 0, 0, 1, 'Oceania', 'http://www.crwflags.com/fotw/images/n/nz.gif'),\n",
              " ('Nicaragua', 1, 1, 0, 'Central America', 'http://www.crwflags.com/fotw/images/n/ni.gif'),\n",
              " ('Norway', 0, 1, 0, 'Europe', 'http://www.crwflags.com/fotw/images/n/no.gif'),\n",
              " ('Pakistan', 1, 0, 2, 'Asia', 'http://www.crwflags.com/fotw/images/p/pk.gif'),\n",
              " ('Panama', 0, 0, 2, 'Central America', 'http://www.crwflags.com/fotw/images/p/pa.gif'),\n",
              " ('Paraguay', 1, 1, 1, 'South America', 'http://www.crwflags.com/fotw/images/p/py.gif'),\n",
              " ('Peru', 2, 1, 0, 'South America', 'http://www.crwflags.com/fotw/images/p/pe.gif'),\n",
              " ('Poland', 4, 4, 3, 'Europe', 'http://www.crwflags.com/fotw/images/p/pl.gif'),\n",
              " ('Qatar', 0, 0, 1, 'Asia', 'http://upload.wikimedia.org/wikipedia/commons/6/65/Flag_of_Qatar.svg'),\n",
              " ('Romania', 4, 4, 0, 'Europe', 'http://www.crwflags.com/fotw/images/r/ro.gif'),\n",
              " ('Russia', 2, 1, 3, 'Europe, Asia', 'http://www.crwflags.com/fotw/images/r/ru.gif'),\n",
              " ('Serbia', 0, 0, 1, 'Europe', 'http://www.crwflags.com/fotw/images/r/rs.gif'),\n",
              " ('Slovakia', 2, 2, 0, 'Europe', 'http://www.crwflags.com/fotw/images/s/sk.gif'),\n",
              " ('Somalia', 1, 0, 0, 'Sub Saharan Africa', 'http://www.crwflags.com/fotw/images/s/so.gif'),\n",
              " ('South Africa', 3, 2, 4, 'Southern Africa', 'http://www.crwflags.com/fotw/images/z/za.gif'),\n",
              " ('Spain', 1, 2, 13, 'Europe', 'http://www.crwflags.com/fotw/images/e/es.gif'),\n",
              " ('Swaziland', 1, 1, 1, 'Southern Africa', 'http://www.crwflags.com/fotw/images/s/sz.gif'),\n",
              " ('Sweden', 2, 3, 1, 'Europe', 'http://www.crwflags.com/fotw/images/s/se.gif'),\n",
              " ('Tanzania', 0, 1, 2, 'Sub Saharan Africa', 'http://www.crwflags.com/fotw/images/t/tz.gif'),\n",
              " ('The Netherlands', 6, 3, 8, 'Europe', 'http://www.crwflags.com/fotw/images/n/nl.gif'),\n",
              " ('Turkey', 0, 0, 1, 'Europe', 'http://www.crwflags.com/fotw/images/t/tr.gif'),\n",
              " ('Ukraine', 1, 1, 1, 'Europe', 'http://www.crwflags.com/fotw/images/u/ua.gif'),\n",
              " ('United Kingdom', 6, 4, 7, 'Europe', 'http://www.crwflags.com/fotw/images/g/gb.gif'),\n",
              " ('United States', 8, 11, 6, 'North America', 'http://www.crwflags.com/fotw/images/u/us.gif'),\n",
              " ('Uruguay', 1, 1, 1, 'South America', 'http://www.crwflags.com/fotw/images/u/uy.gif'),\n",
              " ('Venezuela', 0, 1, 0, 'South America', 'http://www.crwflags.com/fotw/images/v/ve.gif'),\n",
              " ('Zambia', 1, 0, 2, 'Southern Africa', 'http://www.crwflags.com/fotw/images/z/zm.gif'),\n",
              " ('Zimbabwe', 0, 0, 2, 'Southern Africa', 'http://www.crwflags.com/fotw/images/z/zw.gif')]"
            ]
          },
          "metadata": {
            "tags": []
          },
          "execution_count": 18
        }
      ]
    },
    {
      "cell_type": "code",
      "metadata": {
        "id": "0efzyGvIPpxW"
      },
      "source": [
        "# Let's preview our Worldcup table so that we can also understand it.\n",
        "# You will be acting as a football commentator performing research on the \n",
        "# world cup matches played in the past.\n",
        "# \n",
        "%sql SELECT * FROM WorldCup limit 5; "
      ],
      "execution_count": null,
      "outputs": []
    },
    {
      "cell_type": "markdown",
      "metadata": {
        "id": "V2bBqgpywagu"
      },
      "source": [
        "## 1.3 Select Single Columns\n",
        " "
      ]
    },
    {
      "cell_type": "code",
      "metadata": {
        "id": "-tS9qSbtyDte"
      },
      "source": [
        "# Example 1\n",
        "# This is how we will select a single column (i.e. the Country Column) from the Interpol Dataset\n",
        "#\n",
        "%%sql\n",
        "SELECT Country FROM Interpol;"
      ],
      "execution_count": null,
      "outputs": []
    },
    {
      "cell_type": "code",
      "metadata": {
        "id": "OmKAoVo-yDjJ"
      },
      "source": [
        "# Example 2\n",
        "# Let's get the European countries without National fugitives  \n",
        "# \n",
        "%%sql\n",
        "SELECT Country FROM Interpol WHERE \"National Fugitives\" = 0 AND Region = \"Europe\";"
      ],
      "execution_count": null,
      "outputs": []
    },
    {
      "cell_type": "code",
      "metadata": {
        "id": "Trjt913gyDOF"
      },
      "source": [
        "# Example 3\n",
        "# Let's select the regions without National fugitives\n",
        "#\n",
        "%%sql\n",
        "SELECT Region FROM Interpol WHERE \"National Fugitives\" = 0;"
      ],
      "execution_count": null,
      "outputs": []
    },
    {
      "cell_type": "markdown",
      "metadata": {
        "id": "5StEYulTyETT"
      },
      "source": [
        "### <font color=\"green\"> 1.3 Challenges</font>"
      ]
    },
    {
      "cell_type": "code",
      "metadata": {
        "id": "nV7AQstWyPsy"
      },
      "source": [
        "# Challenge 1\n",
        "# Using the Interpol Dataset, let us get the Northern African countries that  \n",
        "# do not host possible fugitives or captured fugitives\n",
        "# \n",
        "%%sql\n",
        "SELECT Country FROM Interpol WHERE \"Region\" = \"Northern Africa\" AND \"Possible Hosted Fugitives / Captured Fugitives\" = 0;"
      ],
      "execution_count": null,
      "outputs": []
    },
    {
      "cell_type": "code",
      "metadata": {
        "id": "g6yi8HaFyPeA"
      },
      "source": [
        "# Challenge 2\n",
        "# Using the Interpol Dataset, let us get the countries without a National fugitive and a Wanted fugitive\n",
        "#\n",
        "%%sql\n",
        "SELECT Country FROM Interpol WHERE \"National fugitive\" = 0 AND \"Wanted Fugitive\" = 0;"
      ],
      "execution_count": null,
      "outputs": []
    },
    {
      "cell_type": "code",
      "metadata": {
        "id": "ZvIo11YvyPTn"
      },
      "source": [
        "# Challenge 3\n",
        "# Using the Interpol Dataset, which european countries have 3 National Fugitives\n",
        "# \n",
        "%%sql\n",
        "SELECT Country FROM Interpol WHERE \"Region\" = \"Europe\" OR \"National fugitive\" = 3;\n"
      ],
      "execution_count": null,
      "outputs": []
    },
    {
      "cell_type": "markdown",
      "metadata": {
        "id": "RfMZY5FixNp9"
      },
      "source": [
        "## 1.4 Multiple columns\n"
      ]
    },
    {
      "cell_type": "code",
      "metadata": {
        "id": "BJwoKj8WyXm3"
      },
      "source": [
        "# Example 1\n",
        "# Using the Interpol dataset, we would like to know the countries and their respective No. of Captured fugitives.\n",
        "#\n",
        "%%sql\n",
        "SELECT Country, \"Possible Hosted Fugitives / Captured Fugitives\" FROM Interpol;"
      ],
      "execution_count": null,
      "outputs": []
    },
    {
      "cell_type": "code",
      "metadata": {
        "id": "npFZQVKpyXfX"
      },
      "source": [
        "# Example 2\n",
        "# Using the world cup dataset, let's get teams that played in the matches with their respective referee\n",
        "# \n",
        "%%sql\n",
        "SELECT \"Home_Team_Name\", \"Away_Team_Name\", Referee FROM WorldCup;"
      ],
      "execution_count": null,
      "outputs": []
    },
    {
      "cell_type": "code",
      "metadata": {
        "id": "WoYn3-BJyXWB"
      },
      "source": [
        "# Example 3\n",
        "# Find out any three matches that have had 5 away goals  \n",
        "#\n",
        "%%sql\n",
        "SELECT * FROM WorldCup Where \"Away_Team_Goals\" = 5 LIMIT 3;"
      ],
      "execution_count": null,
      "outputs": []
    },
    {
      "cell_type": "markdown",
      "metadata": {
        "id": "OjBIzvDZycEj"
      },
      "source": [
        "### <font color=\"green\"> 1.4 Challenges</font>"
      ]
    },
    {
      "cell_type": "code",
      "metadata": {
        "id": "Fj-u_o1uyeyY"
      },
      "source": [
        "# Challenge 1\n",
        "# From the Interpol dataset, let's get countries with their respective \n",
        "# No. of National fugitives and Wanted fugitives\n",
        "# \n",
        "%%sql\n",
        "SELECT Country, \"National Fugitives\", \"Wanted Fugitives\" FROM Interpol;"
      ],
      "execution_count": null,
      "outputs": []
    },
    {
      "cell_type": "code",
      "metadata": {
        "id": "xhYS4NiDyfdJ"
      },
      "source": [
        "# Challenge 2\n",
        "# Using WorldCup dataset, find out which group 4 world cup matches \n",
        "# that were played in the city of Montevideo \n",
        "#\n",
        "%%sql\n",
        "SELECT * FROM WorldCup\n",
        "WHERE City=\"Montevideo \" AND Stage=\"Group 4\";"
      ],
      "execution_count": null,
      "outputs": []
    },
    {
      "cell_type": "markdown",
      "metadata": {
        "id": "r8lgebp4dh5t"
      },
      "source": [
        ""
      ]
    },
    {
      "cell_type": "code",
      "metadata": {
        "id": "dfU-a65wyfNd",
        "colab": {
          "base_uri": "https://localhost:8080/",
          "height": 94
        },
        "outputId": "98df2913-65a4-4314-9e35-5f2ede9d8127"
      },
      "source": [
        "# Challenge 3\n",
        "# Answering the same question as challenge 2, we would like to get only one match\n",
        "# \n",
        "# OUR CODE GOES HERE\n",
        "WorldCup.head(2)"
      ],
      "execution_count": null,
      "outputs": [
        {
          "output_type": "stream",
          "text": [
            " * sqlite://\n",
            "Done.\n"
          ],
          "name": "stdout"
        },
        {
          "output_type": "execute_result",
          "data": {
            "text/html": [
              "<table>\n",
              "    <thead>\n",
              "        <tr>\n",
              "            <th>Year</th>\n",
              "            <th>Datetime</th>\n",
              "            <th>Stage</th>\n",
              "            <th>Stadium</th>\n",
              "            <th>City</th>\n",
              "            <th>Home_Team_Name</th>\n",
              "            <th>Home_Team_Goals</th>\n",
              "            <th>Away_Team_Goals</th>\n",
              "            <th>Away_Team_Name</th>\n",
              "            <th>Win_conditions</th>\n",
              "            <th>Attendance</th>\n",
              "            <th>Halftime_Home_Goals</th>\n",
              "            <th>Halftime_Away_Goals</th>\n",
              "            <th>Referee</th>\n",
              "            <th>Assistant1</th>\n",
              "            <th>Assistant2</th>\n",
              "            <th>RoundID</th>\n",
              "            <th>MatchID</th>\n",
              "            <th>Home_Team_Initials</th>\n",
              "            <th>Away_Team_Initials</th>\n",
              "        </tr>\n",
              "    </thead>\n",
              "    <tbody>\n",
              "    </tbody>\n",
              "</table>"
            ],
            "text/plain": [
              "[]"
            ]
          },
          "metadata": {
            "tags": []
          },
          "execution_count": 56
        }
      ]
    },
    {
      "cell_type": "code",
      "metadata": {
        "id": "ImCEaG9Xj1Uw"
      },
      "source": [
        "WorldCup[\"City\"].value_counts()"
      ],
      "execution_count": null,
      "outputs": []
    },
    {
      "cell_type": "code",
      "metadata": {
        "id": "g4v9YS_Uh7BY"
      },
      "source": [
        "%%sql\n",
        "SELECT * FROM WorldCup \n",
        "WHERE City=\"Montevideo \" AND Stage=\"Group 1\";"
      ],
      "execution_count": null,
      "outputs": []
    },
    {
      "cell_type": "code",
      "metadata": {
        "id": "RDJ_njOP185K"
      },
      "source": [
        "%%sql\n",
        "SELECT * FROM Interpol LIMIT 10;"
      ],
      "execution_count": null,
      "outputs": []
    },
    {
      "cell_type": "code",
      "metadata": {
        "id": "BqrUzVqa2e72"
      },
      "source": [
        "# SELECT Country FROM Interpol LIMIT 10;\n",
        "Interpol.columns.values"
      ],
      "execution_count": null,
      "outputs": []
    },
    {
      "cell_type": "markdown",
      "metadata": {
        "id": "flPFAAxGxRjP"
      },
      "source": [
        "## 1.5 Orderby"
      ]
    },
    {
      "cell_type": "code",
      "metadata": {
        "id": "P9-AxtmsypmA"
      },
      "source": [
        "# Example 1\n",
        "# Using the Interpol dataset, let's get all our records ordering \n",
        "# them by the region in ascending order\n",
        "#\n",
        "%%sql\n",
        "SELECT * FROM Interpol\n",
        "ORDER BY Region ASC;"
      ],
      "execution_count": null,
      "outputs": []
    },
    {
      "cell_type": "code",
      "metadata": {
        "id": "ItZqYP8pypec"
      },
      "source": [
        "# Example 2\n",
        "# We can do the same as in example 1 but now having the records in descending order \n",
        "# as shown below\n",
        "#\n",
        "%%sql\n",
        "SELECT * FROM Interpol\n",
        "ORDER BY Country DESC;"
      ],
      "execution_count": null,
      "outputs": []
    },
    {
      "cell_type": "code",
      "metadata": {
        "id": "wUZJ_JEbypVk"
      },
      "source": [
        "# Example 3 \n",
        "# Using the Worldcup dataset, we can select 5 World Cup Group 1 matches played \n",
        "# after 1950 and having them ordered by city in ascending order as shown below\n",
        "#\n",
        "%%sql\n",
        "SELECT * FROM WorldCup\n",
        "WHERE Stage='Group 1' AND Year > 1950\n",
        "ORDER BY City ASC\n",
        "LIMIT 5;"
      ],
      "execution_count": null,
      "outputs": []
    },
    {
      "cell_type": "markdown",
      "metadata": {
        "id": "Ebo74ksiyxSt"
      },
      "source": [
        "### <font color=\"green\"> 1.5 Challenges</font>"
      ]
    },
    {
      "cell_type": "code",
      "metadata": {
        "id": "HDrz5mCmy04V"
      },
      "source": [
        "# Challenge 1\n",
        "# Using Interpol Dataset, select all the records and order them by National Fugitives in ascending order\n",
        "# \n",
        "%%sql\n",
        "SELECT * FROM Interpol\n",
        "ORDER BY \"National Fugitives\" ASC;"
      ],
      "execution_count": null,
      "outputs": []
    },
    {
      "cell_type": "code",
      "metadata": {
        "id": "SddX9QWUy2bq"
      },
      "source": [
        "# Challenge 2\n",
        "# Using WorldCup Dataset, get the matches played in the Pocitos stadium and their attendance \n",
        "# later than 1950 and ordering them by attendance in descending order\n",
        "# \n",
        "%%sql\n",
        "SELECT Stadium,\"Attendance\" FROM WorldCup WHERE Stadium = \"Pocitos\"\n",
        "ORDER BY Attendance DESC;\n"
      ],
      "execution_count": null,
      "outputs": []
    },
    {
      "cell_type": "code",
      "metadata": {
        "id": "YDzDazViy3jB"
      },
      "source": [
        "# Challenge 3\n",
        "# Get the World Cup Matches played in France after 1970 ordered by years in descending order \n",
        "\n",
        "%%sql\n",
        "SELECT * FROM WorldCup \n",
        "WHERE \"Home_Team_Name\"=\"France\" AND \"Year\"=1970\n",
        "ORDER BY Year DESC;"
      ],
      "execution_count": null,
      "outputs": []
    },
    {
      "cell_type": "markdown",
      "metadata": {
        "id": "kuQDOhnZxXSS"
      },
      "source": [
        "## 1.6 Where"
      ]
    },
    {
      "cell_type": "code",
      "metadata": {
        "id": "JxMw5TSJzHaO"
      },
      "source": [
        "# Example 1\n",
        "# From our Interpol dataset, let's find out which Countries have had three or more than three National Fugitives.\n",
        "#\n",
        "%%sql\n",
        "SELECT * FROM Interpol\n",
        "WHERE Region = 'Europe';"
      ],
      "execution_count": null,
      "outputs": []
    },
    {
      "cell_type": "code",
      "metadata": {
        "id": "GwN_mf1ezHUg"
      },
      "source": [
        "# Example 2\n",
        "# From our Interpol dataset, let's get the European countries and the no of Wanted fugitives they have\n",
        "#\n",
        "%%sql\n",
        "SELECT Country, \"Wanted Fugitives\" FROM Interpol\n",
        "WHERE Region = 'Europe';"
      ],
      "execution_count": null,
      "outputs": []
    },
    {
      "cell_type": "code",
      "metadata": {
        "id": "FtFa2nvnzHJh"
      },
      "source": [
        "# Example 3\n",
        "# From our WorldCup dataset, Let us select the home teams, away teams \n",
        "# and the respective no. of home team goals, no. of away team goals\n",
        "# for the years after 1950\n",
        "#\n",
        "%%sql\n",
        "SELECT Year, Stage, Home_Team_Name, Home_Team_Goals, Away_Team_Name, Away_Team_Goals FROM WorldCup\n",
        "WHERE Year > 1930\n",
        "LIMIT 7;"
      ],
      "execution_count": null,
      "outputs": []
    },
    {
      "cell_type": "markdown",
      "metadata": {
        "id": "SD-wxiNhzN8h"
      },
      "source": [
        "### <font color=\"green\"> 1.6 Challenges</font>"
      ]
    },
    {
      "cell_type": "code",
      "metadata": {
        "id": "S9SXcemDzSMd",
        "colab": {
          "base_uri": "https://localhost:8080/",
          "height": 94
        },
        "outputId": "9c623a9c-90fe-410c-f6b4-d0a138809168"
      },
      "source": [
        "# Challenge 1\n",
        "# From our Interpol dataset, find out which  country had the most Captured Fugitives \n",
        "#\n",
        "%%sql\n",
        "SELECT Country, MAX(\"Possible Hosted Fugitives / Captured Fugitives\") as \"Max Possible Hosted Fugitives / Captured Fugitives\"\n",
        "FROM Interpol;"
      ],
      "execution_count": null,
      "outputs": [
        {
          "output_type": "stream",
          "text": [
            " * sqlite://\n",
            "Done.\n"
          ],
          "name": "stdout"
        },
        {
          "output_type": "execute_result",
          "data": {
            "text/html": [
              "<table>\n",
              "    <thead>\n",
              "        <tr>\n",
              "            <th>Country</th>\n",
              "            <th>Max Possible Hosted Fugitives / Captured Fugitives</th>\n",
              "        </tr>\n",
              "    </thead>\n",
              "    <tbody>\n",
              "        <tr>\n",
              "            <td>Spain</td>\n",
              "            <td>13</td>\n",
              "        </tr>\n",
              "    </tbody>\n",
              "</table>"
            ],
            "text/plain": [
              "[('Spain', 13)]"
            ]
          },
          "metadata": {
            "tags": []
          },
          "execution_count": 54
        }
      ]
    },
    {
      "cell_type": "code",
      "metadata": {
        "id": "8vTPzw0OzSDX"
      },
      "source": [
        "# Challenge 2\n",
        "# Using our Interpol dataset, get the european and asian countries;\n",
        "#\n",
        "%%sql\n",
        "SELECT * FROM Interpol\n",
        "WHERE Region=\"Europe\" OR \"Asia\";\n"
      ],
      "execution_count": null,
      "outputs": []
    },
    {
      "cell_type": "code",
      "metadata": {
        "id": "Z4vVPXxHzR3D",
        "colab": {
          "base_uri": "https://localhost:8080/",
          "height": 94
        },
        "outputId": "8c8fb766-932b-4afb-9b85-b5d873c12613"
      },
      "source": [
        "# Challenge 3 \n",
        "# From our Interpol dataset, find out which top countries had the least National fugities\n",
        "#\n",
        "%%sql\n",
        "SELECT \"Country\", MIN(\"National Fugitive\") as \"Min National Fugitive\"\n",
        "FROM Interpol;\n"
      ],
      "execution_count": null,
      "outputs": [
        {
          "output_type": "stream",
          "text": [
            " * sqlite://\n",
            "Done.\n"
          ],
          "name": "stdout"
        },
        {
          "output_type": "execute_result",
          "data": {
            "text/html": [
              "<table>\n",
              "    <thead>\n",
              "        <tr>\n",
              "            <th>Country</th>\n",
              "            <th>Min National Fugitive</th>\n",
              "        </tr>\n",
              "    </thead>\n",
              "    <tbody>\n",
              "        <tr>\n",
              "            <td>Albania</td>\n",
              "            <td>National Fugitive</td>\n",
              "        </tr>\n",
              "    </tbody>\n",
              "</table>"
            ],
            "text/plain": [
              "[('Albania', 'National Fugitive')]"
            ]
          },
          "metadata": {
            "tags": []
          },
          "execution_count": 53
        }
      ]
    },
    {
      "cell_type": "markdown",
      "metadata": {
        "id": "_HPMnfsqxgWv"
      },
      "source": [
        "## 1.7 Between "
      ]
    },
    {
      "cell_type": "code",
      "metadata": {
        "id": "-Y121Fc_zjTu"
      },
      "source": [
        "# Example 1\n",
        "# Select the countries with national fugitives between 0 and 3 ordered by nationnal fugitives ascending order\n",
        "#\n",
        "%%sql\n",
        "SELECT Country, \"National Fugitives\" FROM Interpol\n",
        "WHERE \"National Fugitives\" BETWEEN 0 AND 3 ORDER BY \"National Fugitives\" ASC;"
      ],
      "execution_count": null,
      "outputs": []
    },
    {
      "cell_type": "code",
      "metadata": {
        "id": "Rl1dSSYzzjLw"
      },
      "source": [
        "# Example 2\n",
        "# Select the countries with national fugitives not between 0 and 4 ordered by nationnal fugitives ascending order\n",
        "#\n",
        "%%sql\n",
        "SELECT Country, \"National Fugitives\" FROM Interpol\n",
        "WHERE \"National Fugitives\" NOT BETWEEN 0 AND 4 ORDER BY \"National Fugitives\" ASC;"
      ],
      "execution_count": null,
      "outputs": []
    },
    {
      "cell_type": "code",
      "metadata": {
        "id": "8KedUOf4zjDs"
      },
      "source": [
        "# Example 3\n",
        "# Select any 5 matches played after 1950 which did not have the home team as Germany\n",
        "#\n",
        "%%sql\n",
        "SELECT * FROM WorldCup\n",
        "WHERE NOT \"Home Team Name\" = 'Germany' AND NOT Year < 1950\n",
        "LIMIT 5;"
      ],
      "execution_count": null,
      "outputs": []
    },
    {
      "cell_type": "markdown",
      "metadata": {
        "id": "hJ310W5zzdVQ"
      },
      "source": [
        "### <font color=\"green\"> 1.7 Challenges</font>"
      ]
    },
    {
      "cell_type": "code",
      "metadata": {
        "id": "yK5U8gQ6zoIM"
      },
      "source": [
        "# Challenge 1\n",
        "# From the Interpol dataset, get all asian countries with wanted fugitives between 0 and 2\n",
        "#\n",
        "%%sql\n",
        "SELECT Country FROM Interpol\n",
        " WHERE Region = \"Asia\" BETWEEN 0 AND 2"
      ],
      "execution_count": null,
      "outputs": []
    },
    {
      "cell_type": "code",
      "metadata": {
        "id": "rm5PecphzoAZ"
      },
      "source": [
        "# Challenge 2\n",
        "# From the World cup dataset, get all the matches that were played later than 1980 with an attendance less than 5000 \n",
        "# \n",
        "%%sql\n",
        "SELECT * FROM WorldCup\n",
        "WHERE 'Year' > 1980 AND Attendance < 5000"
      ],
      "execution_count": null,
      "outputs": []
    },
    {
      "cell_type": "code",
      "metadata": {
        "id": "VcEWqciwzn0K"
      },
      "source": [
        "# Challenge 3 \n",
        "# Which matches were played between the year 1990 and 2000?\n",
        "# \n",
        "%%sql\n",
        "SELECT * FROM WorldCup\n",
        "WHERE  1990<= 'Year' <=2000\n"
      ],
      "execution_count": null,
      "outputs": []
    },
    {
      "cell_type": "markdown",
      "metadata": {
        "id": "45Pnf42Nxnkz"
      },
      "source": [
        "## 1.8 Distinct"
      ]
    },
    {
      "cell_type": "code",
      "metadata": {
        "id": "QuaneZrhz6Ts"
      },
      "source": [
        "# Example 1\n",
        "# Let's find out which stadiums have hosted world cup matches\n",
        "%%sql\n",
        "SELECT DISTINCT Stadium FROM WorldCup;"
      ],
      "execution_count": null,
      "outputs": []
    },
    {
      "cell_type": "code",
      "metadata": {
        "id": "wMiHIgS8z6MT"
      },
      "source": [
        "# Example 2\n",
        "# Let's find out which world cup cities have hosted world cup matches after 2000\n",
        "#\n",
        "%%sql\n",
        "SELECT DISTINCT City FROM WorldCup WHERE Year > 2000;"
      ],
      "execution_count": null,
      "outputs": []
    },
    {
      "cell_type": "markdown",
      "metadata": {
        "id": "2mNf3P6fz6qe"
      },
      "source": [
        "### <font color=\"green\"> 1.8 Challenges</font>"
      ]
    },
    {
      "cell_type": "code",
      "metadata": {
        "id": "vK4W0rDtz9xP"
      },
      "source": [
        "# Challenge 1\n",
        "# Name the stages in the world cup and order them alphabetically by stage.\n",
        "# \n",
        "%%sql\n",
        "SELECT DISTINCT Stage FROM WorldCup\n",
        "ORDER BY Stage ASC"
      ],
      "execution_count": null,
      "outputs": []
    },
    {
      "cell_type": "code",
      "metadata": {
        "id": "-VgClIuzz9ho"
      },
      "source": [
        "# Challenge 2\n",
        "# Which cities hosted the world cup between 1950 and 2000?\n",
        "#\n",
        "%%sql \n",
        "SELECT DISTINCT City FROM WorldCup\n",
        "WHERE 1950 <= 'Year' <= 2000"
      ],
      "execution_count": null,
      "outputs": []
    },
    {
      "cell_type": "code",
      "metadata": {
        "id": "9Mo8KbOoz8c2"
      },
      "source": [
        "# Challenge 3\n",
        "# During which years was the world cup hosted in?\n",
        "#\n",
        "%%sql\n",
        "SELECT DISTINCT Year FROM WorldCup"
      ],
      "execution_count": null,
      "outputs": []
    },
    {
      "cell_type": "markdown",
      "metadata": {
        "id": "ZBHtfAOuxtWX"
      },
      "source": [
        "## 1.9 Count"
      ]
    },
    {
      "cell_type": "code",
      "metadata": {
        "id": "lf6o06zW0LTU"
      },
      "source": [
        "# Example 1\n",
        "# How many countries were listed in interpol's data? \n",
        "#\n",
        "%%sql\n",
        "SELECT COUNT(Country) FROM Interpol;"
      ],
      "execution_count": null,
      "outputs": []
    },
    {
      "cell_type": "code",
      "metadata": {
        "id": "98PmdA100LSE"
      },
      "source": [
        "# Example 2\n",
        "# How many times has Brazil played home during world cup matches?\n",
        "#\n",
        "%%sql\n",
        "SELECT COUNT(\"Home_Team_Name\") FROM WorldCup where Home_Team_Name = 'Brazil';"
      ],
      "execution_count": null,
      "outputs": []
    },
    {
      "cell_type": "code",
      "metadata": {
        "id": "E4BpjhuF0LFh"
      },
      "source": [
        "# Example 3\n",
        "# Find out the number of times that stadiums have hosted matches in the World Cup? \n",
        "# \n",
        "%%sql\n",
        "SELECT COUNT(Stadium)\n",
        "FROM WorldCup;"
      ],
      "execution_count": null,
      "outputs": []
    },
    {
      "cell_type": "markdown",
      "metadata": {
        "id": "urJSHr5a0QHF"
      },
      "source": [
        "### <font color=\"green\"> 1.9 Challenges</font>"
      ]
    },
    {
      "cell_type": "code",
      "metadata": {
        "id": "MRDj9E4B0fWe",
        "colab": {
          "base_uri": "https://localhost:8080/",
          "height": 94
        },
        "outputId": "59f5aaa7-ece9-4a44-a1e9-34df4c6d708a"
      },
      "source": [
        "# Challenge 1\n",
        "# Using Interpol Dataset, find out how many wanted fugitives there are in Northern Africa.\n",
        "# \n",
        "%%sql\n",
        "SELECT COUNT(\"Wanted Fugitives\") FROM WorldCup WHERE \"Region\" = 'Northern Africa'"
      ],
      "execution_count": null,
      "outputs": [
        {
          "output_type": "stream",
          "text": [
            " * sqlite://\n",
            "Done.\n"
          ],
          "name": "stdout"
        },
        {
          "output_type": "execute_result",
          "data": {
            "text/html": [
              "<table>\n",
              "    <thead>\n",
              "        <tr>\n",
              "            <th>COUNT(&quot;Wanted Fugitives&quot;)</th>\n",
              "        </tr>\n",
              "    </thead>\n",
              "    <tbody>\n",
              "        <tr>\n",
              "            <td>0</td>\n",
              "        </tr>\n",
              "    </tbody>\n",
              "</table>"
            ],
            "text/plain": [
              "[(0,)]"
            ]
          },
          "metadata": {
            "tags": []
          },
          "execution_count": 30
        }
      ]
    },
    {
      "cell_type": "code",
      "metadata": {
        "id": "vtNJoQ7m0e0Q",
        "colab": {
          "base_uri": "https://localhost:8080/",
          "height": 94
        },
        "outputId": "c3cd2077-b3c5-4588-b5cb-06908e43486f"
      },
      "source": [
        "# Challenge 2\n",
        "# Using WorldCup Dataset, find out how many Possible Hosted Fugitives / Captured Fugitives \n",
        "# there are in Europe and Northern Africa.\n",
        "# \n",
        "%%sql \n",
        "SELECT COUNT(\"Possible Hosted Fugitives / Captured Fugitives\") FROM WorldCup \n",
        "WHERE \"Region\" = 'Europe' OR 'Northern Africa'"
      ],
      "execution_count": null,
      "outputs": [
        {
          "output_type": "stream",
          "text": [
            " * sqlite://\n",
            "Done.\n"
          ],
          "name": "stdout"
        },
        {
          "output_type": "execute_result",
          "data": {
            "text/html": [
              "<table>\n",
              "    <thead>\n",
              "        <tr>\n",
              "            <th>COUNT(&quot;Possible Hosted Fugitives / Captured Fugitives&quot;)</th>\n",
              "        </tr>\n",
              "    </thead>\n",
              "    <tbody>\n",
              "        <tr>\n",
              "            <td>0</td>\n",
              "        </tr>\n",
              "    </tbody>\n",
              "</table>"
            ],
            "text/plain": [
              "[(0,)]"
            ]
          },
          "metadata": {
            "tags": []
          },
          "execution_count": 35
        }
      ]
    },
    {
      "cell_type": "code",
      "metadata": {
        "id": "QPMB6WLl0eil",
        "colab": {
          "base_uri": "https://localhost:8080/",
          "height": 94
        },
        "outputId": "d9fc4d97-debb-47a5-c966-3c2476537089"
      },
      "source": [
        "# Challenge 3\n",
        "# Using WorldCup dataset, find out how many away teams were played where a team scored more than 3 goals.\n",
        "# \n",
        "%%sql\n",
        "SELECT COUNT(\"Away_Team_Names\") FROM WorldCup\n",
        "WHERE Away_Team_Goals > 3"
      ],
      "execution_count": null,
      "outputs": [
        {
          "output_type": "stream",
          "text": [
            " * sqlite://\n",
            "Done.\n"
          ],
          "name": "stdout"
        },
        {
          "output_type": "execute_result",
          "data": {
            "text/html": [
              "<table>\n",
              "    <thead>\n",
              "        <tr>\n",
              "            <th>COUNT(&quot;Away_Team_Names&quot;)</th>\n",
              "        </tr>\n",
              "    </thead>\n",
              "    <tbody>\n",
              "        <tr>\n",
              "            <td>24</td>\n",
              "        </tr>\n",
              "    </tbody>\n",
              "</table>"
            ],
            "text/plain": [
              "[(24,)]"
            ]
          },
          "metadata": {
            "tags": []
          },
          "execution_count": 41
        }
      ]
    },
    {
      "cell_type": "markdown",
      "metadata": {
        "id": "RHhkA_Ymxxv2"
      },
      "source": [
        "## 1.10 Groupby"
      ]
    },
    {
      "cell_type": "code",
      "metadata": {
        "id": "v_FSehRC0nKn"
      },
      "source": [
        "# Example 1\n",
        "# Which three stadiums have hosted the most world cup games?\n",
        "#\n",
        "%%sql\n",
        "SELECT Stadium, COUNT(Stadium)\n",
        "FROM WorldCup\n",
        "GROUP BY Stadium \n",
        "ORDER BY COUNT(Stadium) DESC LIMIT 3;"
      ],
      "execution_count": null,
      "outputs": []
    },
    {
      "cell_type": "code",
      "metadata": {
        "id": "8Wg9ppdr0m93"
      },
      "source": [
        "# Example 2\n",
        "# Which three stadiums have hosted the least world cup games?\n",
        "#\n",
        "%%sql\n",
        "SELECT City, COUNT(Stadium)\n",
        "FROM WorldCup\n",
        "GROUP BY Stadium \n",
        "ORDER BY COUNT(Stadium) ASC LIMIT 3;"
      ],
      "execution_count": null,
      "outputs": []
    },
    {
      "cell_type": "markdown",
      "metadata": {
        "id": "kXmE4FXm0otn"
      },
      "source": [
        "### <font color=\"green\"> 1.10 Challenges</font>"
      ]
    },
    {
      "cell_type": "code",
      "metadata": {
        "id": "WoXJYKgW1J85"
      },
      "source": [
        "# Challenge 1\n",
        "# What has been the largest no. of home goals scored by three home teams? \n",
        "# \n",
        "%%sql \n",
        "SELECT Home_Team_Name, MAX(Home_Team_Goals) as Home_Team_Goals FROM WorldCup\n",
        "GROUP BY Home_Team_Goals\n",
        "ORDER BY MAX(Home_Team_Goals) DESC LIMIT 3;"
      ],
      "execution_count": null,
      "outputs": []
    },
    {
      "cell_type": "code",
      "metadata": {
        "id": "og-hKLN21JzZ"
      },
      "source": [
        "# Challenge 2\n",
        "# Which away teams have scored the lowest no. of away goals?\n",
        "%%sql\n",
        "SELECT Away_Team_Name, MIN(Away_Team_Goals)  FROM WorldCup\n",
        "GROUP BY Away_Team_Goals;\n",
        "\n",
        "\n"
      ],
      "execution_count": null,
      "outputs": []
    },
    {
      "cell_type": "code",
      "metadata": {
        "id": "AEMk4s-m1Jjm"
      },
      "source": [
        "# Challenge 3\n",
        "# Select records from the World Cup Dataset grouping by City \n",
        "# \n",
        "%%sql\n",
        "SELECT * FROM WorldCup\n",
        "GROUP BY City;"
      ],
      "execution_count": null,
      "outputs": []
    },
    {
      "cell_type": "markdown",
      "metadata": {
        "id": "d1c_SidIx2Pc"
      },
      "source": [
        "##1.11 Null Values\n"
      ]
    },
    {
      "cell_type": "code",
      "metadata": {
        "id": "XyrUTtx_1Yg7"
      },
      "source": [
        "# Example 1\n",
        "# Select any one record from the world cup dataset that has null examples?\n",
        "# \n",
        "%%sql\n",
        "SELECT *\n",
        "FROM WorldCup\n",
        "WHERE Attendance IS NULL LIMIT 1;"
      ],
      "execution_count": null,
      "outputs": []
    },
    {
      "cell_type": "code",
      "metadata": {
        "id": "NhxldRCs1YXo"
      },
      "source": [
        "# Example 2\n",
        "# Select any 5 records without null examples from the Worldcup Dataset \n",
        "#\n",
        "%%sql\n",
        "SELECT *\n",
        "FROM WorldCup\n",
        "WHERE City IS NOT NULL\n",
        "LIMIT 5;"
      ],
      "execution_count": null,
      "outputs": []
    },
    {
      "cell_type": "markdown",
      "metadata": {
        "id": "YncWLSu11Y21"
      },
      "source": [
        "### <font color=\"green\"> 1.11 Challenges</font>"
      ]
    },
    {
      "cell_type": "code",
      "metadata": {
        "id": "04dsl20p1eXH"
      },
      "source": [
        "# Challenge 1\n",
        "# Using the Worldcup dataset, select all the records that contain null values?\n",
        "#\n",
        "%%sql\n",
        "SELECT * FROM WorldCup LIMIT 5;"
      ],
      "execution_count": null,
      "outputs": []
    },
    {
      "cell_type": "code",
      "metadata": {
        "id": "L5TBZKqf1eN2"
      },
      "source": [
        "# Challenge 2\n",
        "# Select all the records that do not contain null values from the Interpol dataset\n",
        "#\n",
        "%%sql \n",
        "SELECT \"Country\", \"National Fugitives\", \"Wanted Fugitives\", \"Possible Hosted Fugitives / Captured Fugitives\", \"Region\", \"Flag\"\n",
        "FROM Interpol\n",
        "WHERE \"National Fugitives\" OR \"Wanted Fugitives\" OR \"Possible Hosted Fugitives / Captured Fugitives\" OR \"Region\" OR \"Flag\" IS NOT NULL;\n"
      ],
      "execution_count": null,
      "outputs": []
    },
    {
      "cell_type": "code",
      "metadata": {
        "id": "0Dy2oNUMjwlg"
      },
      "source": [
        ""
      ],
      "execution_count": null,
      "outputs": []
    }
  ]
}