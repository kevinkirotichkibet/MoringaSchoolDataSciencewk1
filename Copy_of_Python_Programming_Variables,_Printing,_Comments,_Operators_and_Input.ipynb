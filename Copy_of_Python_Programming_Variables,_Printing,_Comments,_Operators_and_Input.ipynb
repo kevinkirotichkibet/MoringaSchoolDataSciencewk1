{
  "nbformat": 4,
  "nbformat_minor": 0,
  "metadata": {
    "colab": {
      "name": "Copy of Python Programming: Variables, Printing, Comments, Operators and Input",
      "provenance": [],
      "collapsed_sections": [],
      "toc_visible": true,
      "include_colab_link": true
    },
    "kernelspec": {
      "name": "python3",
      "display_name": "Python 3"
    }
  },
  "cells": [
    {
      "cell_type": "markdown",
      "metadata": {
        "id": "view-in-github",
        "colab_type": "text"
      },
      "source": [
        "<a href=\"https://colab.research.google.com/github/kevinkirotichkibet/MoringaSchoolDataSciencewk1/blob/main/Copy_of_Python_Programming_Variables%2C_Printing%2C_Comments%2C_Operators_and_Input.ipynb\" target=\"_parent\"><img src=\"https://colab.research.google.com/assets/colab-badge.svg\" alt=\"Open In Colab\"/></a>"
      ]
    },
    {
      "cell_type": "markdown",
      "metadata": {
        "id": "yP8LWf2IYcPt"
      },
      "source": [
        "# Variables, Printing, Comments, Operators and Input"
      ]
    },
    {
      "cell_type": "markdown",
      "metadata": {
        "id": "ZJUYY3Kvm4jW"
      },
      "source": [
        "<font color=\"green\">*To start working on this notebook, or any other notebook that we will use in this course, we will need to save our own copy of it. We can do this by clicking File > Save a Copy in Drive. We will then be able to make edits to our own copy of this notebook.*</font>\n",
        "\n",
        "---\n",
        "\n"
      ]
    },
    {
      "cell_type": "markdown",
      "metadata": {
        "id": "ouu4WxP3MIgj"
      },
      "source": [
        "## 1.0 Introduction"
      ]
    },
    {
      "cell_type": "markdown",
      "metadata": {
        "id": "FpRH6APAK3vV"
      },
      "source": [
        "Python is a programming language that is popularly used for data science. In this section we will get to learn the basics of the python programming language. More specifically, we will get to learn about printing, comments, variables operators and Input.\n",
        "\n",
        "---\n",
        "\n",
        "\n",
        "\n",
        "\n",
        "\n"
      ]
    },
    {
      "cell_type": "markdown",
      "metadata": {
        "id": "7LQwxB9bVRP1"
      },
      "source": [
        "Let's now swiftly begin to write code. Code is a set of instructions that a programmer writes so as to perform a particular task. Code can be written to perform calculations, move a robotic arm, perform analysis etc. During the course of the Moringa Data Science program, we will write alot of code and and this will help you become more confortable at solving a diverse of data science problems. \n",
        "\n",
        "We will also be using Colaboratory, which is an environment that we can use to run our code. This will eliminate the need to spend alot of time installing and configuring your environment and help you spend more time on learning how to write effective code.\n",
        "\n",
        "The page that we are currently using is called a notebook, while the different sections of this notebook are called cells. The cells can be either code or text. In order to start using a ready created notebook just like this one, we will have to first save a copy of this note book on drive i.e. visit File > Save a copy in Drive. This will allow us to have our own copy of the notebook and update any changes we want for example adding code. \n",
        "\n",
        "In order to run our code as shown in the example below, we can drag our mouse to the left of the cell and click on the circular icon with a triangle pointing to the right. Alternatively, we can click inside the cell which we want to run, then press shift+return buttons on our keyboard, all at the same time.\n",
        "\n"
      ]
    },
    {
      "cell_type": "code",
      "metadata": {
        "id": "STRIQLywyUzJ",
        "colab": {
          "base_uri": "https://localhost:8080/"
        },
        "outputId": "8c9c5954-dc3f-4504-8f53-9f32f4016bd3"
      },
      "source": [
        "# Example 1\n",
        "# \n",
        "print(\"I just ran my first python code\")"
      ],
      "execution_count": null,
      "outputs": [
        {
          "output_type": "stream",
          "text": [
            "I just ran my first python code\n"
          ],
          "name": "stdout"
        }
      ]
    },
    {
      "cell_type": "markdown",
      "metadata": {
        "id": "DQXZu9wpDN5E"
      },
      "source": [
        "Don't worry, the first run of the code will take a few seconds to run. Thereafter, the running of our code will be much more faster. As we have also seen, our code is displayed at the bottom of the cell. This section of the cell is called the console and its where the output of our code will always be displayed."
      ]
    },
    {
      "cell_type": "markdown",
      "metadata": {
        "id": "Q9nYivGzNDz8"
      },
      "source": [
        "## 1.1 Printing\n"
      ]
    },
    {
      "cell_type": "markdown",
      "metadata": {
        "id": "K2Y5xqKgKwWF"
      },
      "source": [
        "The second thing that you must have noted in that line of code that we've just ran, is the keyword \"print\". This keyword is meant to print out any text that goes into the following parenthesis. By printing out, we mean outputing our code in the console.  As we continue learning python, we will also come across other keywords that are used to perform different tasks. Such keywords which have two brackets as print() are called functions. In the above example, we used the function print(). We shouldn't now worry about what these functions are as we will learn about them later in the course."
      ]
    },
    {
      "cell_type": "markdown",
      "metadata": {
        "id": "ewLHJRjljHm2"
      },
      "source": [
        "### <font color = 'green'> 1.1 Challenges</font>"
      ]
    },
    {
      "cell_type": "code",
      "metadata": {
        "id": "A9EAzlEUjKDf",
        "colab": {
          "base_uri": "https://localhost:8080/"
        },
        "outputId": "ae6f8a3d-bca7-4d50-aa1b-697cb095362a"
      },
      "source": [
        "# Challenge 1:\n",
        "# Let's now print out your name in the console of this cell.\n",
        "# Replace the text \"OUR CODE GOES HERE\" with the code that you will write \n",
        "# and do likewise to the following examples.\n",
        "#\n",
        "\n",
        "print(\"My name is Kevin Kirotich\")"
      ],
      "execution_count": null,
      "outputs": [
        {
          "output_type": "stream",
          "text": [
            "My name is Kevin Kirotich\n"
          ],
          "name": "stdout"
        }
      ]
    },
    {
      "cell_type": "code",
      "metadata": {
        "id": "Ffeem6qVjKar",
        "colab": {
          "base_uri": "https://localhost:8080/"
        },
        "outputId": "31dc9271-12f5-49e4-966c-6f40f69c3995"
      },
      "source": [
        "# Challenge 2:\n",
        "# Let's print \"I am a Moringa Data Science Student\" below\n",
        "#\n",
        "\n",
        "print(\"I am a Moringa Data Science Student\")"
      ],
      "execution_count": null,
      "outputs": [
        {
          "output_type": "stream",
          "text": [
            "I am a Moringa Data Science Student\n"
          ],
          "name": "stdout"
        }
      ]
    },
    {
      "cell_type": "code",
      "metadata": {
        "id": "B3681apHjKRN",
        "colab": {
          "base_uri": "https://localhost:8080/"
        },
        "outputId": "5a3a3bae-e9e9-4ff8-a540-f2f70062fc97"
      },
      "source": [
        "# Challenge 3:\n",
        "# Print out the sum of 44 and 22 below\n",
        "# NB: We need to see 44 + 22 in our code \n",
        "# \n",
        "\n",
        "print(\"The sum of 44 + 22 is: \", 44+22)"
      ],
      "execution_count": null,
      "outputs": [
        {
          "output_type": "stream",
          "text": [
            "The sum of 44 + 22 is:  66\n"
          ],
          "name": "stdout"
        }
      ]
    },
    {
      "cell_type": "markdown",
      "metadata": {
        "id": "ZCa4gqEhMQeX"
      },
      "source": [
        "## 1.2 Comments "
      ]
    },
    {
      "cell_type": "markdown",
      "metadata": {
        "id": "gnuZm4DJf46i"
      },
      "source": [
        "In this section, we will learn about another key concept of programming - Comments. \n",
        "\n",
        "Programmers and Data Scientists use comments to explain what their code means. These comments are acually pieces of code that do not get translated by the computer. We will use them as helpful messages that we leave within our code. \n",
        "\n",
        "Comments are created by putthing a hash character(#) before the line we would like the computer to ignore. By doing that we would say that we have commented out that line. \n",
        "\n",
        "For example, in the cell below, the first line is the commented out line in the code. It explains what the following code means. "
      ]
    },
    {
      "cell_type": "code",
      "metadata": {
        "id": "xJBU9EQoYcPt"
      },
      "source": [
        "# Example 1\n",
        "# The code below will print out the statement \"I already love Python\". \n",
        "# Let's press the shortcut shift + return (enter button) at the same time\n",
        "# to run the code in this cell. \n",
        "# \n",
        "print 'I already love Python'"
      ],
      "execution_count": null,
      "outputs": []
    },
    {
      "cell_type": "markdown",
      "metadata": {
        "id": "cXhURK-yvBfu"
      },
      "source": [
        "Good! Let's now comment out the code in the following cell and later run the code. By uncommenting we mean removing the last line # character before print."
      ]
    },
    {
      "cell_type": "code",
      "metadata": {
        "id": "ZQj19k6kvLpy"
      },
      "source": [
        "# Example 2\n",
        "#\n",
        "# print(\"My home is Kenya, all wild and wonderful!\")"
      ],
      "execution_count": null,
      "outputs": []
    },
    {
      "cell_type": "markdown",
      "metadata": {
        "id": "ai0VXezYyCVl"
      },
      "source": [
        "If we'd like to make multiline comments, we can also use the # character as shown below:"
      ]
    },
    {
      "cell_type": "code",
      "metadata": {
        "id": "9Ap2sfRVyA8s",
        "colab": {
          "base_uri": "https://localhost:8080/"
        },
        "outputId": "91439059-1ff8-4b18-bba2-18d37c1590e2"
      },
      "source": [
        "# Example 3\n",
        "# The following line of code prints out \n",
        "# \"I have just began my Data science journey\" in the console\n",
        "# \n",
        "print(\"I have just began my data science journey\")"
      ],
      "execution_count": null,
      "outputs": [
        {
          "output_type": "stream",
          "text": [
            "I have just began my data science journey\n"
          ],
          "name": "stdout"
        }
      ]
    },
    {
      "cell_type": "markdown",
      "metadata": {
        "id": "9g9cO9kTj7eS"
      },
      "source": [
        "### <font color = 'green'> 1.2 Challenges</font> "
      ]
    },
    {
      "cell_type": "code",
      "metadata": {
        "id": "X6FOU-U5j1_0"
      },
      "source": [
        "# Challenge 1:\n",
        "# We now add multiline comments that explain what happens to a line \n",
        "# that prints out the name of your home town below \n",
        "# \n",
        "# This comment shows that the name of my home town below is commented and cannot be printed\n",
        "# print(\"My hometown is Eldoret\")\n"
      ],
      "execution_count": null,
      "outputs": []
    },
    {
      "cell_type": "code",
      "metadata": {
        "id": "TUlfErrLj31q",
        "colab": {
          "base_uri": "https://localhost:8080/",
          "height": 35
        },
        "outputId": "fc019369-bcbd-4818-aa0b-453fec0e2a30"
      },
      "source": [
        "# Challenge 2:\n",
        "# Add comments to the program below. Add comments in two lines. \n",
        "# \n",
        "\n",
        "#OUR CODE GOES HERE\n",
        "#a = \"Hello Brenda!\"\n",
        "\n",
        "#OUR CODE GOES HERE\n",
        "#print(a)"
      ],
      "execution_count": null,
      "outputs": [
        {
          "output_type": "execute_result",
          "data": {
            "application/vnd.google.colaboratory.intrinsic+json": {
              "type": "string"
            },
            "text/plain": [
              "' OUR CODE GOES HERE\\na = \"Hello Brenda!\"\\n\\nOUR CODE GOES HERE\\nprint(a) '"
            ]
          },
          "metadata": {
            "tags": []
          },
          "execution_count": 7
        }
      ]
    },
    {
      "cell_type": "code",
      "metadata": {
        "id": "RsAK7Vfmj6Pi",
        "colab": {
          "base_uri": "https://localhost:8080/"
        },
        "outputId": "bca8a978-2522-4777-f62f-efefca14b836"
      },
      "source": [
        "# Challenge 3:\n",
        "# Run the code below then try to figure out what happens.\n",
        "# Then from your understanding, provide a documentation to the program\n",
        "# NB: By documentation we mean add comments to the program \n",
        "# to help the reader to understand the program.\n",
        "# Hint: Explain each line of the program.\n",
        "#\n",
        "#months is an array storing a set of information together in this case its storing names of months in a year\n",
        "months = ['January', 'February', 'March', 'April', 'May', 'June', 'July','August','September','October', 'November','December']\n",
        "\n",
        "#the def is define and its used to define a function of method\n",
        "def showCalender(months):\n",
        "  \n",
        "# for is a loop and its used to retreive \n",
        "    for month in months:\n",
        "#print is used to display information on the console      \n",
        "        print(month)\n",
        "                \n",
        "showCalender(months)"
      ],
      "execution_count": null,
      "outputs": [
        {
          "output_type": "stream",
          "text": [
            "January\n",
            "February\n",
            "March\n",
            "April\n",
            "May\n",
            "June\n",
            "July\n",
            "August\n",
            "September\n",
            "October\n",
            "November\n",
            "December\n"
          ],
          "name": "stdout"
        }
      ]
    },
    {
      "cell_type": "markdown",
      "metadata": {
        "id": "enegx82E43R0"
      },
      "source": [
        "## 1.3 Variables"
      ]
    },
    {
      "cell_type": "markdown",
      "metadata": {
        "id": "BkeWKmaiVZrw"
      },
      "source": [
        "The next thing we will learn is a variable. This is simply a container that we can use to store a value. This value can be a number, a character, a string (which is just a set of characters), a list (we will learn this, a dictionary - we will also learn this), etc. "
      ]
    },
    {
      "cell_type": "markdown",
      "metadata": {
        "id": "MNf-A-Vu_aPR"
      },
      "source": [
        "In python, we would create a variable and store a value at the same time, just as shown in the following example."
      ]
    },
    {
      "cell_type": "code",
      "metadata": {
        "id": "dnmsWMx8_SUA"
      },
      "source": [
        "# Example 1\n",
        "# We store the value 10 in a variable p. In programming we say that \"we are assigning the value 10 to p\"\n",
        "# Running this cell won't output anything. Why? You can discuss this with your peer. \n",
        "# If you haven't figure it out, then go on to the next example and you'll know why\n",
        "#\n",
        "p = 10"
      ],
      "execution_count": null,
      "outputs": []
    },
    {
      "cell_type": "code",
      "metadata": {
        "id": "4jZQErLZVd_y",
        "colab": {
          "base_uri": "https://localhost:8080/"
        },
        "outputId": "91ade643-7f79-4e02-fa83-dca5f80259de"
      },
      "source": [
        "# Example 2\n",
        "# So as to create a variable we use the equals sign; =, like in the example below. \n",
        "# This sign is usually regarded to what is called an assignment operator.\n",
        "# How do we say what is happening to 5 and x below? We've learned this in\n",
        "# the previous example.\n",
        "# \n",
        "x = 5\n",
        "\n",
        "# Because we have assigned the value 5 to x, \n",
        "# we now need to print out and see whether x has that value. \n",
        "# Lets print out x below this line using the print() function below\n",
        "\n",
        "print(x)"
      ],
      "execution_count": null,
      "outputs": [
        {
          "output_type": "stream",
          "text": [
            "5\n"
          ],
          "name": "stdout"
        }
      ]
    },
    {
      "cell_type": "code",
      "metadata": {
        "id": "zitN-ocgVqsF",
        "colab": {
          "base_uri": "https://localhost:8080/"
        },
        "outputId": "99906c10-64db-45bd-db95-5e2c603cd348"
      },
      "source": [
        "# Example 3\n",
        "# Nice, Work now on this challenge: \n",
        "# Create a savings variable with the value 1000 \n",
        "#\n",
        "\n",
        "# Then print this savings variable below this line;\n",
        "\n",
        "savings=1000\n",
        "print(savings)\n"
      ],
      "execution_count": null,
      "outputs": [
        {
          "output_type": "stream",
          "text": [
            "1000\n"
          ],
          "name": "stdout"
        }
      ]
    },
    {
      "cell_type": "code",
      "metadata": {
        "id": "Mjj8BXlNYcPx",
        "colab": {
          "base_uri": "https://localhost:8080/"
        },
        "outputId": "99b3d1ab-5ef9-4ced-f27f-b872e92acbcd"
      },
      "source": [
        "# Example 4\n",
        "# Now uncomment the below lines to print a, \n",
        "# then later uncomment b = 5 and later uncomment print(b)\n",
        "# Do note what happens\n",
        "#\n",
        "\n",
        "a = 10\n",
        "\n",
        "print(a)\n",
        "\n",
        "b = 5\n",
        "\n",
        "print(b)"
      ],
      "execution_count": null,
      "outputs": [
        {
          "output_type": "stream",
          "text": [
            "10\n",
            "5\n"
          ],
          "name": "stdout"
        }
      ]
    },
    {
      "cell_type": "markdown",
      "metadata": {
        "id": "O8SLfCskkHv4"
      },
      "source": [
        "### <font color = 'green'>  1.3 Challenges </font>"
      ]
    },
    {
      "cell_type": "code",
      "metadata": {
        "id": "313rKbkAkKcR",
        "colab": {
          "base_uri": "https://localhost:8080/"
        },
        "outputId": "1f3e90f3-d322-4592-bb1e-f9215c6b70e0"
      },
      "source": [
        "# Challenge 1\n",
        "# Assign the book Harry Potter and the Deathly Hollows to the variable author\n",
        "\n",
        "#creating a variable to store info\n",
        "author=\"Harry Potter and the Deathly Hollows\"\n",
        "print(author)"
      ],
      "execution_count": 8,
      "outputs": [
        {
          "output_type": "stream",
          "text": [
            "Harry Potter and the Deathly Hollows\n"
          ],
          "name": "stdout"
        }
      ]
    },
    {
      "cell_type": "code",
      "metadata": {
        "id": "3PN6Ef_gkK39"
      },
      "source": [
        "# Challenge 2\n",
        "# Fix the following code the run the cell\n",
        "#\n",
        "_quote_ = \"Einstein\" "
      ],
      "execution_count": 9,
      "outputs": []
    },
    {
      "cell_type": "code",
      "metadata": {
        "id": "IUdjEiyAkKpE"
      },
      "source": [
        "# Challenge 3\n",
        "# Fix the following code the run the cell\n",
        "#\n",
        "second_number = 400"
      ],
      "execution_count": null,
      "outputs": []
    },
    {
      "cell_type": "markdown",
      "metadata": {
        "id": "UgmQhU5qeG8x"
      },
      "source": [
        "## 1.4 Operators"
      ]
    },
    {
      "cell_type": "code",
      "metadata": {
        "id": "Rz2NNvZmYcP0",
        "colab": {
          "base_uri": "https://localhost:8080/"
        },
        "outputId": "0205f4d6-499f-47e1-c02b-3ead2ad28fd5"
      },
      "source": [
        "# Example 1\n",
        "# In this section, we are going to use the variable a and b to perform \n",
        "# some arithmetic operations. Variable values or the variables from the above cell are retained \n",
        "# and can be used with the values that they were assigned to. \n",
        "# We will learn more about this when we run the lines below.\n",
        "# Let's run this cell once then \n",
        "# Uncomment the lines below to see the effect for multiplication, division and substraction \n",
        "#\n",
        "\n",
        "print(a + b)\n",
        "\n",
        "print(a * b)\n",
        "\n",
        "print(a / b)\n",
        "\n",
        "print(a - b)"
      ],
      "execution_count": null,
      "outputs": [
        {
          "output_type": "stream",
          "text": [
            "15\n",
            "50\n",
            "2.0\n",
            "5\n"
          ],
          "name": "stdout"
        }
      ]
    },
    {
      "cell_type": "code",
      "metadata": {
        "id": "w7UUv925YcP2",
        "colab": {
          "base_uri": "https://localhost:8080/"
        },
        "outputId": "8d92931c-aa34-4daf-c04c-258d6519d4ba"
      },
      "source": [
        "# Example 2\n",
        "# What would happen if we assigned the value of a + b to a. \n",
        "# Then try to come up with the answer in your mind \n",
        "# before uncommenting the line below;\n",
        "# \n",
        "\n",
        "a = a + b\n",
        "\n",
        "print(a)"
      ],
      "execution_count": null,
      "outputs": [
        {
          "output_type": "stream",
          "text": [
            "15\n"
          ],
          "name": "stdout"
        }
      ]
    },
    {
      "cell_type": "code",
      "metadata": {
        "id": "yVolQ1lCYcP5",
        "colab": {
          "base_uri": "https://localhost:8080/"
        },
        "outputId": "4ee5a46b-0f3e-477a-a6a0-394b0accbc30"
      },
      "source": [
        "# Example 3\n",
        "# Nice. Now we will introduce a rather unfamiliar operator that we normally use in python.\n",
        "# This operator is called the increment operator \n",
        "# \n",
        "\n",
        "a += b\n",
        "\n",
        "print(a)\n",
        "\n",
        "# Try using the decrement operator below. The increment operator is -=\n"
      ],
      "execution_count": null,
      "outputs": [
        {
          "output_type": "stream",
          "text": [
            "25\n"
          ],
          "name": "stdout"
        }
      ]
    },
    {
      "cell_type": "markdown",
      "metadata": {
        "id": "VoM4VEWeTxue"
      },
      "source": [
        "As you have seen, python is perfectly suited to do basic calculations. Apart from addition, subtraction, multiplication and division, there is also support for more advanced operations such as:\n",
        "\n",
        "\n",
        "*   Exponentiation:  This operator raises the number to its left to the power of the number to its right. For example 4**2 will give 16.\n",
        "*   Modulo: %. This operator returns the remainder of the division of the number to the left by the number on its right. For example 18 % 7 equals 4."
      ]
    },
    {
      "cell_type": "code",
      "metadata": {
        "id": "s6fPLiHaTJs7",
        "colab": {
          "base_uri": "https://localhost:8080/"
        },
        "outputId": "b2799aed-c460-47fe-fbc9-00ba23910f80"
      },
      "source": [
        "# Example 4\n",
        "# Lets uncomment the lines below to Exponentiation and then \n",
        "#\n",
        "\n",
        "print(18 % 7)\n",
        "print(4 ** 2)"
      ],
      "execution_count": null,
      "outputs": [
        {
          "output_type": "stream",
          "text": [
            "4\n",
            "16\n"
          ],
          "name": "stdout"
        }
      ]
    },
    {
      "cell_type": "markdown",
      "metadata": {
        "id": "8MEIfFSclWvn"
      },
      "source": [
        "### <font color = 'green'> 1.4 Challenges </font>"
      ]
    },
    {
      "cell_type": "code",
      "metadata": {
        "id": "iILThnq6laDQ",
        "colab": {
          "base_uri": "https://localhost:8080/"
        },
        "outputId": "11e550fa-3cab-4a6d-c312-cacbd8c84638"
      },
      "source": [
        "# Challenge 1\n",
        "# Three persons have three notes of Ksh.50, Ksh.100 and Ksh.500.\n",
        "# Create three variables; person 1, person 2 and person 3 then \n",
        "# Find out the average of their money and display it below.\n",
        "# defining variables\n",
        "person_1 = 50\n",
        "person_2 = 100\n",
        "person_3 = 500\n",
        "\n",
        "#finding the sum of money of the three people\n",
        "sum = (person_1 + person_2 + person_3)\n",
        "#finding their average\n",
        "average = (sum/3)\n",
        "\n",
        "print(\"The average money is Ksh: \",average)"
      ],
      "execution_count": null,
      "outputs": [
        {
          "output_type": "stream",
          "text": [
            "The average money is Ksh:  216.66666666666666\n"
          ],
          "name": "stdout"
        }
      ]
    },
    {
      "cell_type": "code",
      "metadata": {
        "id": "P9fCjPn9la7V",
        "colab": {
          "base_uri": "https://localhost:8080/"
        },
        "outputId": "51e0cb3f-6900-4bd5-aa45-7787271e2753"
      },
      "source": [
        "# Challenge 2\n",
        "# An online shop sells designer jeans and t-shirts. \n",
        "# Each jeans costs Ksh. 4500 and t-shirt costs Ksh. 2500.\n",
        "# Calculate the cost below if you were to buy 3 pairs of jeans and 6 t-shirts\n",
        "# using variables and operators.\n",
        "#\n",
        "jeans =(4500)\n",
        "t_shirt = (2500)\n",
        "\n",
        "total=((4500 * 3) + (2500 * 6))\n",
        "\n",
        "print(total)"
      ],
      "execution_count": null,
      "outputs": [
        {
          "output_type": "stream",
          "text": [
            "28500\n"
          ],
          "name": "stdout"
        }
      ]
    },
    {
      "cell_type": "code",
      "metadata": {
        "id": "NIDidtkllawY",
        "colab": {
          "base_uri": "https://localhost:8080/"
        },
        "outputId": "345bc8b3-93a6-4c5e-a17c-048eae191e45"
      },
      "source": [
        "# Challenge 3\n",
        "# We have Ksh 1000, which you invest with a 10% return each year. \n",
        "# After one year, it's 1000 × 1.1 = 1100 shillings, and after two years \n",
        "# it's 1000 × 1.1 × 1.1 = 121. \n",
        "# Now, write code below to calculate how much money \n",
        "# you would end up with after 7 years.\n",
        "# How much is your Ksh. 1000 worth after 15 years?\n",
        "# ----------\n",
        "# Hint: Instead of calculating with the actual values, you can use variables instead. \n",
        "# The savings variable you've created in the previous exercise represents the Ksh 1000 you started with. \n",
        "# It's up to you to create a new variable to represent 1.1 and then redo the calculations!\n",
        "# ----------\n",
        "\n",
        "# We can recreate the savings variable that we will use below\n",
        "#\n",
        "savings = 1000\n",
        "\n",
        "# and create a growth_multiplier variable that is equal to 1.1.\n",
        "growth = (1.1)\n",
        "\n",
        "# Then create a result variable and equal it to the amount of money you saved after 7 years.\n",
        "result = savings * growth * growth * growth * growth * growth * growth * growth \n",
        "\n",
        "\n",
        "# Then print out the value of result below\n",
        "print(result)\n",
        "\n",
        "# savings after 15 years\n",
        "result = (savings * growth * growth * growth * growth * growth * growth * growth * growth * growth * growth * growth * growth * growth * growth * growth)\n",
        "print(result)"
      ],
      "execution_count": null,
      "outputs": [
        {
          "output_type": "stream",
          "text": [
            "1948.7171000000005\n",
            "4177.248169415654\n"
          ],
          "name": "stdout"
        }
      ]
    },
    {
      "cell_type": "markdown",
      "metadata": {
        "id": "wCNLWKgJeLJn"
      },
      "source": [
        "## 1.5 Input"
      ]
    },
    {
      "cell_type": "code",
      "metadata": {
        "id": "KFoVX3qxUVX5",
        "colab": {
          "base_uri": "https://localhost:8080/"
        },
        "outputId": "104a12eb-6151-468d-a81e-73eacb96b8c9"
      },
      "source": [
        "# Example 1\n",
        "# The input() function allows for user input as shown\n",
        "# \n",
        "g = input(\"Enter a number: \") \n",
        "\n",
        "print(int(g) + 2)"
      ],
      "execution_count": null,
      "outputs": [
        {
          "output_type": "stream",
          "text": [
            "Enter a number: 76\n",
            "78\n"
          ],
          "name": "stdout"
        }
      ]
    },
    {
      "cell_type": "code",
      "metadata": {
        "id": "1nq-JtqvXI3h",
        "colab": {
          "base_uri": "https://localhost:8080/"
        },
        "outputId": "593e5249-04d6-4086-9f0d-b271622766de"
      },
      "source": [
        "# Example 2\n",
        "# Lets get the sum of two numbers from a user's input\n",
        "# \n",
        "x = input('Enter the first number: ')\n",
        "y = input('Enter the second number: ')\n",
        "\n",
        "print(int(x) + int(y)) "
      ],
      "execution_count": null,
      "outputs": [
        {
          "output_type": "stream",
          "text": [
            "Enter the first number: 3\n",
            "Enter the second number: 4\n",
            "7\n"
          ],
          "name": "stdout"
        }
      ]
    },
    {
      "cell_type": "code",
      "metadata": {
        "id": "_2nBPR_o3bgY",
        "colab": {
          "base_uri": "https://localhost:8080/"
        },
        "outputId": "33f5f447-a5e2-45c4-f701-908719ba0a9e"
      },
      "source": [
        "# Example 3\n",
        "# Let's get the name and age of the user \n",
        "#\n",
        "\n",
        "# Prompting the user to tell us their name and displaying their name\n",
        "name = input(\"What's your name? \")\n",
        "print(\"Nice to meet you \" + name + \"!\")\n",
        "\n",
        "# Prompting the user to tell use their age \n",
        "age = input(\"Your age? \")\n",
        "\n",
        "# Displaying both their name and age\n",
        "# Hint: Try to remove str() and see what happens. We will learn more about datatype conversion later()\n",
        "# \n",
        "print(\"So, you are already \" + str(age) + \" years old, \" + name + \"!\")"
      ],
      "execution_count": null,
      "outputs": [
        {
          "output_type": "stream",
          "text": [
            "What's your name? kirotich\n",
            "Nice to meet you kirotich!\n",
            "Your age? 23\n",
            "So, you are already 23 years old, kirotich!\n"
          ],
          "name": "stdout"
        }
      ]
    },
    {
      "cell_type": "markdown",
      "metadata": {
        "id": "eEu2bBRRlo1e"
      },
      "source": [
        "### <font color = 'green'>  1.5 Challenges </font>"
      ]
    },
    {
      "cell_type": "code",
      "metadata": {
        "id": "RmNOhWeWlyLb",
        "colab": {
          "base_uri": "https://localhost:8080/"
        },
        "outputId": "3a96905f-c605-45ac-e89a-b74069095c87"
      },
      "source": [
        "# Challenge 1\n",
        "# Many people around the world think about their height in feet and inches \n",
        "# even here in Africa where many countries use the metric system. \n",
        "# Write a program reads the height in metres then converts it to\n",
        "# feet and inches. The program should display the equivalent \n",
        "# height in feet and height.\n",
        "# NB: You can look up the necessary conversion factors on the web.\n",
        "#import the maths library\n",
        "import math\n",
        "#user enters name\n",
        "name =input(\"Hello, What is your name:) \")\n",
        "print(\"Nice to meet you \" + name + \".\" )\n",
        "#user enters his/her height\n",
        "height_meters = input(\"Please enter your height in meters \")\n",
        "#conversion from meters to feet\n",
        "height_feet = (float(height_meters) * 3.28)\n",
        "#separator function from the math library\n",
        "separated_num = math.modf(height_feet)\n",
        "\n",
        "#print height if feet and inches \n",
        "print(str(name) + \", Your height is: \" + str(separated_num[1]) + \"\\\" \" + str(separated_num[0]) + \"\\'\")"
      ],
      "execution_count": null,
      "outputs": [
        {
          "output_type": "stream",
          "text": [
            "Hello, What is your name:) keiaosd\n",
            "Nice to meet you keiaosd.\n",
            "Please enter your height in meters 1.61\n",
            "keiaosd, Your height is: 5.0\" 0.28080000000000016'\n"
          ],
          "name": "stdout"
        }
      ]
    },
    {
      "cell_type": "code",
      "metadata": {
        "id": "2mgeNPXrrIa3"
      },
      "source": [
        ""
      ],
      "execution_count": null,
      "outputs": []
    },
    {
      "cell_type": "code",
      "metadata": {
        "id": "8ML79H1Dpk9y"
      },
      "source": [
        ""
      ],
      "execution_count": null,
      "outputs": []
    },
    {
      "cell_type": "code",
      "metadata": {
        "id": "EdIZZ53Ml4Jx",
        "colab": {
          "base_uri": "https://localhost:8080/"
        },
        "outputId": "44f80c76-6d24-4791-e631-6bb69b24f122"
      },
      "source": [
        "# Challenge 2\n",
        "# Given a certain column of data that has radius, a data scientist would like\n",
        "# to compute the volume the respective cylinder and save the result to a new column.\n",
        "# Thus, write a program that reads the radius of cylinder, along with its height \n",
        "# from the user to calculate the volume in the console.\n",
        "#\n",
        "#user enters the radius and height of the  cylinder\n",
        "radius=input(\"Enter the radius of the cylinder: \")\n",
        "height=input(\"Enter the height of the cylinder: \")\n",
        "#assigning pie variable a value\n",
        "pie=(22/7)\n",
        "\n",
        "#calculating the surface area of the cylinder\n",
        "surface_area=(float(pie) * float(radius) * float(radius))\n",
        "#calculating the volume of the cylinder\n",
        "volume=(surface_area * float(height))\n",
        "\n",
        "#printing the string value of the volume\n",
        "print(\"The volume of the cylinder is: \" + str(volume)+\" cubic units\")\n"
      ],
      "execution_count": null,
      "outputs": [
        {
          "output_type": "stream",
          "text": [
            "Enter the radius of the cylinder: 2\n",
            "Enter the height of the cylinder: 4\n",
            "The volume of the cylinder is: 50.285714285714285 cubic units\n"
          ],
          "name": "stdout"
        }
      ]
    },
    {
      "cell_type": "code",
      "metadata": {
        "id": "EuzTUGQnl4tz",
        "colab": {
          "base_uri": "https://localhost:8080/"
        },
        "outputId": "f98647a2-adb2-43f1-cbce-61fe825dc9a3"
      },
      "source": [
        "# Challenge 3\n",
        "# While paying for her parking fee of Ksh. 50 , Jane inserts a Note into \n",
        "# the paying machine and gets back her change. \n",
        "# Write a program that reads as input the note greater than Ksh. 200 \n",
        "# and returns change in notes of 100 and 50.\n",
        "# Use the knowledge of variables to printing, comments, operators \n",
        "# and input to print the no of denominations given\n",
        "# define variable to read amount inserted\n",
        "amount_inserted = input(\"How much have you sloted to the machine? \")\n",
        "\n",
        "#assign a parking fee variable of ksh 50\n",
        "parking_fee = 50\n",
        "if int(amount_inserted) > 200:\n",
        "  amount_remaining = (int(amount_inserted) - parking_fee)\n",
        "  #read denomination\n",
        "  bill_of_hundreds= (amount_remaining//100)\n",
        "  bill_of_fifty= (amount_remaining%100)//50\n",
        "\n",
        "  print(\"Your balance is Ksh: \" + str(amount_remaining) + \".\\n\" + \"You will receive: \"+str(bill_of_hundreds)+\" one hundred shilling note(s) and \"+str(bill_of_fifty)+\" Fifty shilling note(s).\\nThank you.\")\n",
        "else:\n",
        "  amount_remaining = (int(amount_inserted) - parking_fee)\n",
        "  print(\"Your Balance is Ksh: \"+str(amount_remaining))\n",
        "\n",
        "\n",
        "\n",
        "\n",
        "\n"
      ],
      "execution_count": 7,
      "outputs": [
        {
          "output_type": "stream",
          "text": [
            "How much have you sloted to the machine? 350\n",
            "Your balance is Ksh: 300.\n",
            "You will receive: 3 one hundred shilling note(s) and 0 Fifty shilling note(s).\n",
            "Thank you.\n"
          ],
          "name": "stdout"
        }
      ]
    }
  ]
}